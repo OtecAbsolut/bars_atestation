{
 "cells": [
  {
   "cell_type": "markdown",
   "metadata": {},
   "source": [
    "# Структуры данных и алгоритмы"
   ]
  },
  {
   "cell_type": "markdown",
   "metadata": {},
   "source": [
    "## => массивы"
   ]
  },
  {
   "cell_type": "markdown",
   "metadata": {},
   "source": [
    "https://habr.com/ru/company/alconost/blog/419685/"
   ]
  },
  {
   "cell_type": "markdown",
   "metadata": {},
   "source": [
    "![mass](attest_image/massive.png)"
   ]
  },
  {
   "cell_type": "markdown",
   "metadata": {},
   "source": [
    "## => связные списки"
   ]
  },
  {
   "cell_type": "markdown",
   "metadata": {},
   "source": [
    "![mass](attest_image/list.png)"
   ]
  },
  {
   "cell_type": "markdown",
   "metadata": {},
   "source": [
    "Питоновский лист - это классический представитель связанных списков"
   ]
  },
  {
   "cell_type": "code",
   "execution_count": 1,
   "metadata": {},
   "outputs": [],
   "source": [
    "class Node:\n",
    "    def __init__(self, data, next=None):\n",
    "        self.data = data\n",
    "        self.next = next\n",
    "    def __repr__(self):\n",
    "        return self.data"
   ]
  },
  {
   "cell_type": "code",
   "execution_count": 7,
   "metadata": {},
   "outputs": [],
   "source": [
    "vasia = Node('Vasia')\n",
    "petia = Node('Petia', vasia)\n",
    "rita = Node('Rita', petia)"
   ]
  },
  {
   "cell_type": "code",
   "execution_count": 8,
   "metadata": {},
   "outputs": [
    {
     "name": "stdout",
     "output_type": "stream",
     "text": [
      "Petia\n",
      "Vasia\n",
      "None\n"
     ]
    }
   ],
   "source": [
    "print(rita.next)\n",
    "print(rita.next.next)\n",
    "print(rita.next.next.next)"
   ]
  },
  {
   "cell_type": "markdown",
   "metadata": {},
   "source": [
    "## => словарь (он же хеш-таблица)"
   ]
  },
  {
   "cell_type": "markdown",
   "metadata": {},
   "source": [
    "![hash](attest_image/hesh.png)"
   ]
  },
  {
   "cell_type": "markdown",
   "metadata": {},
   "source": [
    "Коллизия в случае словаря, это когда разные ключи имеют одинаковый ХЕШ!"
   ]
  },
  {
   "cell_type": "code",
   "execution_count": 2,
   "metadata": {},
   "outputs": [],
   "source": [
    "class Foo(dict):\n",
    "\n",
    "    def __eq__(self, other):   # При возникновение коллизии, когда хеши равны у двух клиючей\n",
    "        global collision_count\n",
    "        collision_count += 1\n",
    "        return id(self) == id(other)\n",
    "\n",
    "    def __hash__(self):   #  что __eq__ вызывается только в том случае, если значения __hash__ двух \n",
    "        return id(self)   # объектов одинаковы\n",
    "        "
   ]
  },
  {
   "cell_type": "markdown",
   "metadata": {},
   "source": [
    "![pdict](attest_image/pdict.png)"
   ]
  },
  {
   "cell_type": "markdown",
   "metadata": {},
   "source": [
    "Словарь в Python является фундаментальным типом хотя бы потому, что используется для хранения атрибутов объектов любого класса. Внутри словарь реализован как хеш-таблица с открытой адресацией, где коллизии разрешаются методом квадратичного пробинга, таблица расширяется при заполнении более чем на ⅔.\n",
    "\n",
    "Вообще, **словари** достаточно хорошо описаны и стоят того, чтобы взглянуть на их исходники (искать в Objects/dictobject.c). Описанное устройство словарей несёт конкретные практические последствия: \n",
    "\n",
    "**Ключ должен быть хеширумым объектом**\n",
    "Т. е. у него должен быть определен метод __hash__, возвращающий одинаковое значение во время жизни объекта. Кстати, если у вашего типа определён метод __eq__, то обязательно должен быть и __hash__, чтобы тип корректно работал со словарями и множествами. \n",
    "\n",
    "**Словари дают повышение накладных расходов по памяти**\n",
    "Это связано с тем, что хеш-таблица должна быть достаточно большой для эффективной работы с ней. Если есть, например, необходимость сохранить в массиве большое количество записей, то оптимальнее по памяти представить их в виде кортежей, нежели чем в виде словарей.\n",
    "\n",
    "**Поиск по ключу очень быстрый**\n",
    "Здесь тот самый space-time tradeoff, алгоритмическая сложность доступа O(1).\n",
    "\n",
    "**Порядок следования ключей зависит от порядка вставки в словарь**\n",
    "Это связано с возникающими коллизиями. При этом словари с одинаковым содержимым равны при проверке через ==.\n",
    "\n",
    "**Модифицировать словарь, по которому итерируешься — плохая идея**\n",
    "В определённый момент Python может решить, что пора ресайзить хеш-таблицу и тогда старые данные переедут в новую табличку с новыми коллизиями, может измениться порядок следования ключей.\n",
    "\n",
    "**Множества** аналогично реализованы через хеш-таблицу, так что к ним применимы те же следствия."
   ]
  },
  {
   "cell_type": "markdown",
   "metadata": {},
   "source": [
    "### хеш \n",
    "Идея хеширования основана на распределении ключей в обычном массиве H[0..m-1]. Распределение осуществляется вычислением для каждого ключа элемента некоторой хеш-функции h. Эта функция на основе ключа вычисляет целое число n, которое служит индексом для массива H. Конечно, необходимо придумать такую хеш-функцию, которая бы давала различный хеш-код для различных объектов"
   ]
  },
  {
   "cell_type": "markdown",
   "metadata": {},
   "source": [
    "# Алгоритмы поиска"
   ]
  },
  {
   "cell_type": "markdown",
   "metadata": {},
   "source": [
    "## последовательный поиск "
   ]
  },
  {
   "cell_type": "code",
   "execution_count": 27,
   "metadata": {},
   "outputs": [],
   "source": [
    "def simple_find(l: list):\n",
    "    for i, v in l:\n",
    "        if v == 3:\n",
    "            return i\n",
    "        "
   ]
  },
  {
   "cell_type": "markdown",
   "metadata": {},
   "source": [
    "## индексно-последовательный поиск"
   ]
  },
  {
   "cell_type": "markdown",
   "metadata": {},
   "source": [
    "![index_find](attest_image/index_find.png)"
   ]
  },
  {
   "cell_type": "markdown",
   "metadata": {},
   "source": [
    "## бинарный поиск"
   ]
  },
  {
   "cell_type": "code",
   "execution_count": 4,
   "metadata": {},
   "outputs": [
    {
     "name": "stdout",
     "output_type": "stream",
     "text": [
      "[0, 1, 2, 3, 4, 5, 6, 7, 8, 9, 10, 11, 12, 13, 14, 15, 16, 17, 18, 19]\n",
      "Середина 9\n",
      "ищем в массиве [0, 1, 2, 3, 4, 5, 6, 7, 8, 9, 10, 11, 12, 13, 14, 15, 16, 17, 18]\n",
      "Середина 14\n",
      "ищем в массиве [10, 11, 12, 13, 14, 15, 16, 17, 18]\n",
      "Середина 17\n",
      "ищем в массиве [15, 16, 17, 18]\n",
      "Середина 15\n",
      "ищем в массиве [15]\n",
      "Середина 16\n",
      "ID = 16\n"
     ]
    }
   ],
   "source": [
    "from random import random\n",
    "\n",
    "N = 20\n",
    "number = 16\n",
    "\n",
    "def generate_arr(n):\n",
    "    array = [i for i in range(N)]\n",
    "    array.sort()\n",
    "    return array\n",
    "\n",
    "\n",
    "def find_binary(arr, num):\n",
    "    low = 0\n",
    "    high = len(arr) - 1\n",
    "    \n",
    "    while low <= high:\n",
    "        mid = (low + high) // 2\n",
    "        print(f'Середина {mid}')\n",
    "        if num < arr[mid]:\n",
    "            print(f'ищем в массиве {arr[low:high]}')\n",
    "            high = mid - 1\n",
    "        elif num > arr[mid]:\n",
    "            print(f'ищем в массиве {arr[low:high]}')\n",
    "            low = mid + 1\n",
    "        else:\n",
    "            print(\"ID =\", mid)\n",
    "            break\n",
    "    else:\n",
    "        print(\"No the number\")\n",
    "\n",
    "        \n",
    "array = generate_arr(N)\n",
    "print(array)\n",
    "find_binary(array, number)"
   ]
  },
  {
   "cell_type": "markdown",
   "metadata": {},
   "source": [
    "# Алгоритмы сортировки\n"
   ]
  },
  {
   "cell_type": "markdown",
   "metadata": {},
   "source": [
    "## Пузырьковая"
   ]
  },
  {
   "cell_type": "markdown",
   "metadata": {},
   "source": [
    "Таким образом, асимптотика в худшем и среднем случае – O(n2), в лучшем случае – O(n)"
   ]
  },
  {
   "cell_type": "code",
   "execution_count": 12,
   "metadata": {},
   "outputs": [
    {
     "name": "stdout",
     "output_type": "stream",
     "text": [
      "[2, 5, 6, 7, 9]\n"
     ]
    }
   ],
   "source": [
    "def buble(arr):\n",
    "    for i in range(len(arr) - 1):\n",
    "        for j in range(len(arr) - i - 1):\n",
    "            if arr[j] > arr[j+1]:\n",
    "                arr[j], arr[j+1] = arr[j+1], arr[j]\n",
    "    return arr\n",
    "\n",
    "print(buble([7, 6, 2, 5, 9]))"
   ]
  },
  {
   "cell_type": "markdown",
   "metadata": {},
   "source": [
    "## Быстрая сортировка (Quick Sort)\n"
   ]
  },
  {
   "cell_type": "markdown",
   "metadata": {},
   "source": [
    "Это то же алгоритм «разделяй и властвуй» и его наиболее часто используют их описанных в этой статье. При правильной настройке он чрезвычайно эффективен и не требует дополнительного пространства памяти как сортировка слиянием. Мы разделяем список вокруг элемента точка опоры, сортируя значения вокруг этой точки.\n",
    "\n",
    "Объяснение\n",
    "Быстрая сортировка начинается с разбиения списка – выбора одного значения списка, которое будет в его отсортированном месте. Это значение называется опорным. Все элементы, меньшие, чем этот элемент, перемещаются влево. Все более крупные элементы перемещены вправо.\n",
    "\n",
    "Зная, что опорный элемент находится на своем правильном месте, мы рекурсивно сортируем значения вокруг этого элемента, пока не будет\n",
    "\n",
    "В отличие от сортировки кучи и сортировки слиянием, обе из которых имеют худшие времена O(nlog (n)), быстрая сортировка имеет худшее время O(n^2)"
   ]
  },
  {
   "cell_type": "code",
   "execution_count": 13,
   "metadata": {},
   "outputs": [
    {
     "name": "stdout",
     "output_type": "stream",
     "text": [
      "[1, 5, 18, 22, 99]\n"
     ]
    }
   ],
   "source": [
    "# Есть разные способы реализовать быструю сортировки\n",
    "# мы выбрали схема Tony Hoare\n",
    "def partition(nums, low, high):  \n",
    "    # Мы выбираем средний элемент, в качестве опорного. Некоторые реализации выбирают\n",
    "    # первый элемент или последний элемент или вообще случайный элемент.\n",
    "    pivot = nums[(low + high) // 2]\n",
    "    i = low - 1\n",
    "    j = high + 1\n",
    "    while True:\n",
    "        i += 1\n",
    "        while nums[i] < pivot:\n",
    "            i += 1\n",
    "        j -= 1\n",
    "        while nums[j] > pivot:\n",
    "            j -= 1\n",
    "        if i >= j:\n",
    "            return j\n",
    "        # Если элемент в i (слева от оси) больше, чем\n",
    "        # элемент в J (справа от оси), то поменять их местами\n",
    "        nums[i], nums[j] = nums[j], nums[i]\n",
    "        \n",
    "        \n",
    "def quick_sort(nums):  \n",
    "    # Создаем вспомогательную рекурсивную функцию\n",
    "    def _quick_sort(items, low, high):\n",
    "        if low < high:\n",
    "            # Это индекс после опорного элемента, по которому наши списки разделены\n",
    "            split_index = partition(items, low, high)\n",
    "            _quick_sort(items, low, split_index)\n",
    "            _quick_sort(items, split_index + 1, high)\n",
    "    _quick_sort(nums, 0, len(nums) - 1)\n",
    "    \n",
    "# Проверяем, что все работает\n",
    "random_list_of_nums = [22, 5, 1, 18, 99]  \n",
    "quick_sort(random_list_of_nums)  \n",
    "print(random_list_of_nums)"
   ]
  },
  {
   "cell_type": "markdown",
   "metadata": {},
   "source": [
    "Встроенная функция сортировки реализуют алгоритм сортировки Тима. Этот алгоритм, основан на сортировке слиянием и сортировке вставкой."
   ]
  },
  {
   "cell_type": "markdown",
   "metadata": {},
   "source": [
    "# Рассказать отличия алгоритмов обхода дерева в глубину и ширину\n"
   ]
  },
  {
   "cell_type": "markdown",
   "metadata": {},
   "source": [
    "https://medium.com/@dimko1/%D0%B0%D0%BB%D0%B3%D0%BE%D1%80%D0%B8%D1%82%D0%BC%D1%8B-%D0%BE%D0%B1%D1%85%D0%BE%D0%B4-%D0%B4%D0%B5%D1%80%D0%B5%D0%B2%D0%B0-ed54848c2d47"
   ]
  },
  {
   "cell_type": "markdown",
   "metadata": {},
   "source": [
    "![tree](attest_image/tree_depth.png)"
   ]
  },
  {
   "cell_type": "code",
   "execution_count": 5,
   "metadata": {},
   "outputs": [],
   "source": [
    "tree = {\n",
    "  'name': 'etc',\n",
    "  'type': 'directory',\n",
    "  'children': [\n",
    "    {\n",
    "      'name': 'some_file',\n",
    "      'type': 'file',\n",
    "    },\n",
    "    {\n",
    "      'name': 'consul',\n",
    "      'type': 'directory',\n",
    "      'children': [\n",
    "        {\n",
    "          'name': 'config.json',\n",
    "          'type': 'file',\n",
    "        }\n",
    "      ],\n",
    "    },\n",
    "    {\n",
    "      'name': 'some_file_2',\n",
    "      'type': 'file',\n",
    "    }\n",
    "  ],\n",
    "}"
   ]
  },
  {
   "cell_type": "code",
   "execution_count": 11,
   "metadata": {},
   "outputs": [
    {
     "name": "stdout",
     "output_type": "stream",
     "text": [
      "==> {'name': 'etc', 'type': 'directory', 'children': [{'name': 'some_file', 'type': 'file'}, {'name': 'consul', 'type': 'directory', 'children': [{'name': 'config.json', 'type': 'file'}]}, {'name': 'some_file_2', 'type': 'file'}]}\n",
      "==> {'name': 'some_file', 'type': 'file'}\n",
      "==> {'name': 'consul', 'type': 'directory', 'children': [{'name': 'config.json', 'type': 'file'}]}\n",
      "==> {'name': 'config.json', 'type': 'file'}\n",
      "==> {'name': 'some_file_2', 'type': 'file'}\n",
      "{'name': 'config.json', 'type': 'file'}\n"
     ]
    }
   ],
   "source": [
    "# Файловое дерево обход в глубину:\n",
    "def find_file_dfs(tree, name):\n",
    "    print('==>', tree)\n",
    "    if tree['name'] == name:\n",
    "        return tree\n",
    "    \n",
    "    if tree.get('children'):\n",
    "        res = list(filter(None, [find_file_dfs(i, name) for i in tree['children']]))\n",
    "        return res[0]\n",
    "    \n",
    "print(find_file_dfs(tree, 'config.json'))"
   ]
  },
  {
   "cell_type": "code",
   "execution_count": 9,
   "metadata": {},
   "outputs": [
    {
     "name": "stdout",
     "output_type": "stream",
     "text": [
      "==> {'name': 'etc', 'type': 'directory', 'children': [{'name': 'some_file', 'type': 'file'}, {'name': 'consul', 'type': 'directory', 'children': [{'name': 'config.json', 'type': 'file'}]}, {'name': 'some_file_2', 'type': 'file'}]}\n",
      "==> {'name': 'some_file', 'type': 'file'}\n",
      "==> {'name': 'consul', 'type': 'directory', 'children': [{'name': 'config.json', 'type': 'file'}]}\n",
      "==> {'name': 'some_file_2', 'type': 'file'}\n",
      "==> {'name': 'config.json', 'type': 'file'}\n",
      "{'name': 'config.json', 'type': 'file'}\n"
     ]
    }
   ],
   "source": [
    "# Файловое дерево обход в ширину:\n",
    "def find_file_bfs(tree, name):\n",
    "    queue = []\n",
    "    values = []\n",
    "    queue.append(tree)\n",
    "    \n",
    "    while len(queue) > 0:\n",
    "        node = queue.pop(0)\n",
    "        print('==>', node)\n",
    "        if node['name'] == name:\n",
    "            return node\n",
    "        if node.get('children'):\n",
    "            queue.extend(node['children'])\n",
    "\n",
    "print(find_file_bfs(tree, 'config.json'))"
   ]
  },
  {
   "cell_type": "markdown",
   "metadata": {},
   "source": [
    "# Временная и пространственная сложность алгоритма"
   ]
  },
  {
   "cell_type": "markdown",
   "metadata": {},
   "source": [
    "![O](attest_image/On.png)"
   ]
  },
  {
   "cell_type": "markdown",
   "metadata": {},
   "source": [
    "Пространственная сложность алгоритма (в худшем случае) — это функция размера входных и выходных данных, равная максимальному количеству затраченной памяти, затраченной алгоритмом для решения экземпляра задачи указанного размера."
   ]
  },
  {
   "cell_type": "markdown",
   "metadata": {},
   "source": [
    "Оценка пузырьковой сортировки"
   ]
  },
  {
   "cell_type": "code",
   "execution_count": 12,
   "metadata": {},
   "outputs": [],
   "source": [
    "# Функция для замеров памяти\n",
    "import sys\n",
    "\n",
    "\n",
    "def show_size(x, level=0):\n",
    "    print('\\t' * level, f'type = {type(x)}, size = {sys.getsizeof(x)}, obj = {x}')\n",
    "\n",
    "    if hasattr(x, '__iter__'):\n",
    "\n",
    "        if hasattr(x, 'items'):\n",
    "\n",
    "            for key, value in x.items():\n",
    "                show_size(key, level + 1)\n",
    "                show_size(value, level + 1)\n",
    "\n",
    "        elif not isinstance(x, str):\n",
    "\n",
    "            for item in x:\n",
    "                show_size(item, level + 1)       "
   ]
  },
  {
   "cell_type": "code",
   "execution_count": 13,
   "metadata": {},
   "outputs": [],
   "source": [
    "def buble(arr):\n",
    "    for i in range(len(arr) - 1):\n",
    "        for j in range(len(arr) - i - 1):\n",
    "            if arr[j] > arr[j+1]:\n",
    "                arr[j], arr[j+1] = arr[j+1], arr[j]\n",
    "    return arr"
   ]
  },
  {
   "cell_type": "code",
   "execution_count": 15,
   "metadata": {},
   "outputs": [
    {
     "name": "stdout",
     "output_type": "stream",
     "text": [
      " type = <class 'list'>, size = 144, obj = [1, 3, 9, 4, 11, 124, 4, 1, 0]\n",
      "\t type = <class 'int'>, size = 28, obj = 1\n",
      "\t type = <class 'int'>, size = 28, obj = 3\n",
      "\t type = <class 'int'>, size = 28, obj = 9\n",
      "\t type = <class 'int'>, size = 28, obj = 4\n",
      "\t type = <class 'int'>, size = 28, obj = 11\n",
      "\t type = <class 'int'>, size = 28, obj = 124\n",
      "\t type = <class 'int'>, size = 28, obj = 4\n",
      "\t type = <class 'int'>, size = 28, obj = 1\n",
      "\t type = <class 'int'>, size = 24, obj = 0\n",
      " type = <class 'function'>, size = 144, obj = <function buble at 0x7f8fa78dd200>\n",
      " type = <class 'list'>, size = 144, obj = [0, 1, 1, 3, 4, 4, 9, 11, 124]\n",
      "\t type = <class 'int'>, size = 24, obj = 0\n",
      "\t type = <class 'int'>, size = 28, obj = 1\n",
      "\t type = <class 'int'>, size = 28, obj = 1\n",
      "\t type = <class 'int'>, size = 28, obj = 3\n",
      "\t type = <class 'int'>, size = 28, obj = 4\n",
      "\t type = <class 'int'>, size = 28, obj = 4\n",
      "\t type = <class 'int'>, size = 28, obj = 9\n",
      "\t type = <class 'int'>, size = 28, obj = 11\n",
      "\t type = <class 'int'>, size = 28, obj = 124\n"
     ]
    }
   ],
   "source": [
    "a = [1, 3 ,9, 4, 11, 124, 4, 1, 0]\n",
    "show_size(a)\n",
    "\n",
    "show_size(buble)\n",
    "show_size(buble(a))"
   ]
  },
  {
   "cell_type": "markdown",
   "metadata": {},
   "source": [
    "# Графы"
   ]
  },
  {
   "cell_type": "markdown",
   "metadata": {},
   "source": [
    "https://habr.com/ru/post/112421/"
   ]
  },
  {
   "cell_type": "markdown",
   "metadata": {},
   "source": [
    "![graph](attest_image/graph.png)"
   ]
  },
  {
   "cell_type": "code",
   "execution_count": 16,
   "metadata": {},
   "outputs": [],
   "source": [
    "a, b, c, d, e, f, g, h = range(8)\n",
    "N = [\n",
    "\t{b, c, d, e, f}, # a\n",
    "\t{c, e}, # b\n",
    "\t{d}, # c\n",
    "\t{e}, # d\n",
    "\t{f}, # e\n",
    "\t{c, g, h}, # f\n",
    "\t{f, h}, # g\n",
    "\t{f, g} # h\n",
    "]"
   ]
  },
  {
   "cell_type": "code",
   "execution_count": 17,
   "metadata": {},
   "outputs": [
    {
     "data": {
      "text/plain": [
       "True"
      ]
     },
     "execution_count": 17,
     "metadata": {},
     "output_type": "execute_result"
    }
   ],
   "source": [
    "b in N[a] # смежная?"
   ]
  },
  {
   "cell_type": "code",
   "execution_count": 18,
   "metadata": {},
   "outputs": [
    {
     "data": {
      "text/plain": [
       "3"
      ]
     },
     "execution_count": 18,
     "metadata": {},
     "output_type": "execute_result"
    }
   ],
   "source": [
    "len(N[f])  # степень"
   ]
  },
  {
   "cell_type": "markdown",
   "metadata": {},
   "source": [
    "## Графы-деревья"
   ]
  },
  {
   "cell_type": "markdown",
   "metadata": {},
   "source": [
    "## Полный граф (все вершины смежные)"
   ]
  },
  {
   "cell_type": "markdown",
   "metadata": {},
   "source": [
    "![full](attest_image/full.png)"
   ]
  },
  {
   "cell_type": "markdown",
   "metadata": {},
   "source": [
    "## Пустой графф (у которого одни вершины)"
   ]
  },
  {
   "cell_type": "markdown",
   "metadata": {},
   "source": [
    "![treee](attest_image/IMG_20200202_153819.jpg)"
   ]
  },
  {
   "cell_type": "code",
   "execution_count": null,
   "metadata": {},
   "outputs": [],
   "source": [
    "tree = ['Moscow', [\n",
    "  ['Smolensk'],\n",
    "  ['Yaroslavl'],\n",
    "  ['Voronezh', [\n",
    "    ['Liski'],\n",
    "    ['Boguchar'],\n",
    "    ['Kursk', [\n",
    "      ['Belgorod', [\n",
    "        ['Borisovka'],\n",
    "      ]],\n",
    "      ['Kurchatov'],\n",
    "    ]],\n",
    "  ]],\n",
    "  ['Ivanovo', [\n",
    "    ['Kostroma'], ['Kineshma'],\n",
    "  ]],\n",
    "  ['Vladimir'],\n",
    "  ['Tver', [\n",
    "    ['Klin'], ['Dubna'], ['Rzhev'],\n",
    "  ]],\n",
    "]];"
   ]
  },
  {
   "cell_type": "markdown",
   "metadata": {},
   "source": [
    "# Деревья"
   ]
  },
  {
   "cell_type": "markdown",
   "metadata": {},
   "source": [
    "http://py-algorithm.blogspot.com/2011/07/blog-post_30.html?m=1"
   ]
  },
  {
   "cell_type": "markdown",
   "metadata": {},
   "source": [
    "## Что такое куча?"
   ]
  },
  {
   "cell_type": "markdown",
   "metadata": {},
   "source": [
    "https://habr.com/ru/post/112222/"
   ]
  },
  {
   "cell_type": "markdown",
   "metadata": {},
   "source": [
    "Двоичная куча (binary heap) – просто реализуемая структура данных, позволяющая быстро (за логарифмическое время) добавлять элементы и извлекать элемент с максимальным приоритетом (например, максимальный по значению)."
   ]
  },
  {
   "cell_type": "markdown",
   "metadata": {},
   "source": [
    "![bin_kuch](attest_image/bin_kicha.png)"
   ]
  },
  {
   "cell_type": "markdown",
   "metadata": {},
   "source": [
    "Двоичная куча представляет собой полное бинарное дерево, для которого выполняется основное свойство кучи: приоритет каждой вершины больше приоритетов её потомков. В простейшем случае приоритет каждой вершины можно считать равным её значению. В таком случае структура называется max-heap, поскольку корень поддерева является максимумом из значений элементов поддерева. В этой статье для простоты используется именно такое представление. Напомню также, что дерево называется полным бинарным, если у каждой вершины есть не более двух потомков, а заполнение уровней вершин идет сверху вниз (в пределах одного уровня – слева направо)."
   ]
  },
  {
   "cell_type": "markdown",
   "metadata": {},
   "source": [
    "## Что такое сбалансированное дерево?"
   ]
  },
  {
   "cell_type": "markdown",
   "metadata": {},
   "source": [
    "Бинарное дерево назовем идеально сбалансированным, если для каждой его вершины количество вершин в левом и правом поддереве различаются не более чем на 1."
   ]
  },
  {
   "cell_type": "markdown",
   "metadata": {},
   "source": [
    "![ideal](attest_image/ideal_balance.png)"
   ]
  },
  {
   "cell_type": "markdown",
   "metadata": {},
   "source": [
    "## Для чего могут быть нужны красно-черные деревья?"
   ]
  },
  {
   "cell_type": "markdown",
   "metadata": {},
   "source": [
    "https://habr.com/ru/post/330644/"
   ]
  },
  {
   "cell_type": "markdown",
   "metadata": {},
   "source": [
    "![red_black](attest_image/red_black.png)"
   ]
  },
  {
   "cell_type": "markdown",
   "metadata": {},
   "source": [
    "Один из видов из самобалансирующихся двоичных деревьев поиска, гарантирующих логарифмический рост высоты дерева от числа узлов и позволяющее быстро выполнять основные операции дерева поиска: добавление, удаление и поиск узла. Сбалансированность достигается за счёт введения дополнительного атрибута узла дерева — «цвета». Этот атрибут может принимать одно из двух возможных значений — «чёрный» или «красный».\n",
    "\n",
    "Изобретателем красно-чёрного дерева считают немца Рудольфа Байера. Название «красно-чёрное дерево» структура данных получила в статье Л. Гимбаса и Р. Седжвика (1978). По словам Гимбаса, они использовали ручки двух цветов[1]. По словам Седжвика, красный цвет лучше всех смотрелся на лазерном принтере[1][2].\n",
    "\n",
    "Красно-чёрное дерево используется для организации сравнимых данных, таких как фрагменты текста или числа. Листовые узлы красно-чёрных деревьев не содержат данных, благодаря чему не требуют выделения памяти — достаточно записать в узле-предке в качестве указателя на потомка нулевой указатель. Однако, в некоторых реализациях для упрощения алгоритма могут использоваться явные листовые узлы."
   ]
  },
  {
   "cell_type": "markdown",
   "metadata": {},
   "source": [
    "Они могут понядобятся потому что по ним поиск быстрый **O(logN)**, поговаривают, что С++ контейнер map реализвоан как раз как красно-черное дерево."
   ]
  },
  {
   "cell_type": "code",
   "execution_count": null,
   "metadata": {},
   "outputs": [],
   "source": [
    "# Пример дерева с погружением\n",
    "tree = {'name': 'Mikel',\n",
    "        'age': 5,\n",
    "        'children': [\n",
    "            {'name': 'Sveta', 'age': 4, 'children': [\n",
    "                {'name': 'Anna', 'age': 1, 'children': []},\n",
    "                {'name': 'Bob', 'age': 3, 'children': []}\n",
    "            ]\n",
    "             },\n",
    "            {'name': 'Genna', 'age': 4, 'children': [\n",
    "                {'name': 'Kalima', 'age': 13, 'children': []}\n",
    "            ]\n",
    "             },\n",
    "        ]}\n",
    "\n",
    "\n",
    "def calculator(tree):\n",
    "    result = []\n",
    "\n",
    "    def func(node, acc, depth):\n",
    "        if len(node['children']) == 0:\n",
    "            acc.append(node['name'])\n",
    "            result.append('/'.join(acc))\n",
    "            return\n",
    "        acc.append(node['name'])\n",
    "        [func(n, acc[0:depth], depth + 1) for n in node['children']]\n",
    "\n",
    "    func(tree, [], 1)\n",
    "    return result\n",
    "\n",
    "print(calculator(tree))"
   ]
  },
  {
   "cell_type": "markdown",
   "metadata": {},
   "source": [
    "## Шаблон проектирования «Набор»"
   ]
  },
  {
   "cell_type": "code",
   "execution_count": 22,
   "metadata": {},
   "outputs": [
    {
     "data": {
      "text/plain": [
       "False"
      ]
     },
     "execution_count": 22,
     "metadata": {},
     "output_type": "execute_result"
    }
   ],
   "source": [
    "# При проектировании (да и реализации) таких структур данных как деревья может оказаться полезным гибкий класс, \n",
    "# позволяющий задавать набор атрибутов через конструктор. Здесь нас может выручить шаблон проектирования «Набор» \n",
    "# (названный так Алексом Мартелли в «Python Cookbook»). Есть много способов его реализации, \n",
    "# но суть видна из следующего кода:\n",
    "\n",
    "class Bunch(dict):\n",
    "\tdef __init__(self, *args, **kwds):\n",
    "\t\tsuper().__init__(*args, **kwds)\n",
    "\t\tself.__dict__ = self\n",
    "        \n",
    "# Есть несколько полезных способов его применения. Во-первых, он позволяет создать и задать значения атрибутов, \n",
    "# передав их как аргументы при создании объекта:\n",
    "\n",
    "x = Bunch(name=\"Jayne Cobb\", position=\"PR\")\n",
    "x.name\n",
    "# 'Jayne Cobb'\n",
    "\n",
    "# Во-вторых, наследование от dict дает много дополнительного функционала, такого как получение всех ключей \n",
    "# (атрибутов) или простая проверка наличия атрибута. Вот пример:\n",
    "\n",
    "T = Bunch\n",
    "t = T(left=T(left=\"a\", right=\"b\"), right=T(left=\"c\"))\n",
    "t.left\n",
    "# {'right': 'b', 'left': 'a'}\n",
    "t.left.right\n",
    "# 'b'\n",
    "t['left']['right']\n",
    "# 'b'\n",
    "\"left\" in t.right\n",
    "# True\n",
    "\"right\" in t.right\n",
    "# False\n",
    "# Конечно же этот шаблон можно использовать не только для создания деревьев. \n",
    "# Он пригодится в любой ситуации, где необходим гибкий объект, умеющий задавать свои атрибуты при создании."
   ]
  },
  {
   "cell_type": "code",
   "execution_count": null,
   "metadata": {},
   "outputs": [],
   "source": []
  }
 ],
 "metadata": {
  "kernelspec": {
   "display_name": "Python 3",
   "language": "python",
   "name": "python3"
  },
  "language_info": {
   "codemirror_mode": {
    "name": "ipython",
    "version": 3
   },
   "file_extension": ".py",
   "mimetype": "text/x-python",
   "name": "python",
   "nbconvert_exporter": "python",
   "pygments_lexer": "ipython3",
   "version": "3.7.6"
  }
 },
 "nbformat": 4,
 "nbformat_minor": 2
}
