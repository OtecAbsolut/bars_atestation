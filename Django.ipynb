{
 "cells": [
  {
   "cell_type": "markdown",
   "metadata": {},
   "source": [
    "# Сколько запросов к базе данных будет выполнено и почему?"
   ]
  },
  {
   "cell_type": "markdown",
   "metadata": {},
   "source": [
    "https://django.fun/docs/django/ru/3.0/ref/models/querysets/#when-querysets-are-evaluated  \n",
    "https://django.fun/docs/django/ru/3.0/topics/db/queries/#limiting-querysets"
   ]
  },
  {
   "cell_type": "code",
   "execution_count": null,
   "metadata": {},
   "outputs": [],
   "source": [
    "# 1)\n",
    "users = Users.objects.filter(id=1) # Не выполняется запрос\n",
    "messages = Messages.objects.filter(user__in=users) # Не выполняется запрос\n",
    "messages[0] # Тут происходит вычисление кверисета и делается запрос с LIMIT 1"
   ]
  },
  {
   "cell_type": "code",
   "execution_count": null,
   "metadata": {},
   "outputs": [],
   "source": [
    "# 2)\n",
    "qs = Messages.objects.filter(name='Fred') # Не выполняется запрос\n",
    "x = qs[2] # Выполнится запрос\n",
    "x = qs[2] # Выполнится запрос"
   ]
  },
  {
   "cell_type": "code",
   "execution_count": null,
   "metadata": {},
   "outputs": [],
   "source": [
    "qs = Messages.objects.filter(name='Fred') # Не выполняется запрос\n",
    "list(qs)  # Выполнится запрос и заполнится КЭШ\n",
    "x = qs[2] # Возьмется из кэша\n",
    "x = qs[2] # Возьмется из кэша"
   ]
  },
  {
   "cell_type": "code",
   "execution_count": null,
   "metadata": {},
   "outputs": [],
   "source": [
    "user = Users.objects.get(pk=1) # Выполнится запрос\n",
    "list(user.messages.all()) # Выполнится запрос\n",
    "list(user.messages.all()) # Выполнится запрос"
   ]
  },
  {
   "cell_type": "markdown",
   "metadata": {},
   "source": [
    "# Какой способ обращения предпочтительнее и почему?"
   ]
  },
  {
   "cell_type": "code",
   "execution_count": null,
   "metadata": {},
   "outputs": [],
   "source": [
    "# a\n",
    "message.user.id # Выполнится запрос к таблице User\n",
    "# b\n",
    "message.user_id # ЭТОТ ЛУЧШЕ, так как не будет запроса к базе"
   ]
  },
  {
   "cell_type": "markdown",
   "metadata": {},
   "source": [
    "# В какой момент QuerySet вычисляется?"
   ]
  },
  {
   "cell_type": "markdown",
   "metadata": {},
   "source": [
    "- **Итерация**. QuerySet является итеративным, и он выполняет свой запрос к базе данных при первой итерации по нему. Например, это напечатает заголовок всех записей в базе данных:\n",
    "\n",
    "    for e in Entry.objects.all():\n",
    "        print(e.headline)\n",
    "    Примечание: не используйте это, если все, что вы хотите сделать, это определить, существует ли хотя бы один результат. Более эффективно использовать exists().\n",
    "\n",
    "- **Срезы**. Как объяснено в Ограничение QuerySet, QuerySet может быть нарезан, используя синтаксис Python для срезов массивов. Срез невычисленного QuerySet обычно возвращает другой невычисленный QuerySet, но Django выполнит запрос к базе данных, если вы используете параметр «step» синтаксиса среза, и вернет список. Срез QuerySet, который был вычислен, также возвращает список.\n",
    "\n",
    "    Также обратите внимание, что даже если срез невычисленного QuerySet возвращает другой невычисленный QuerySet, дальнейшее его изменение (например, добавление дополнительных фильтров или изменение порядка) недопустимо, поскольку это плохо переводится в SQL и не будет иметь четкого значения.\n",
    "\n",
    "- **Pickling/Кэширование**. См. следующий раздел для получения подробной информации о том, что происходит при pickling QuerySets. Для целей этого раздела важно, чтобы результаты считывались из базы данных.  \n",
    "\n",
    "- **repr()**. QuerySet вычисляется, когда вы вызываете repr() для него. Это удобно для интерактивного интерпретатора Python, поэтому вы можете сразу увидеть свои результаты при интерактивном использовании API.  \n",
    "\n",
    "- **len()**. QuerySet вычисляется, когда вы вызываете len() для него. Это, как вы могли ожидать, возвращает длину списка результатов.\n",
    "\n",
    "    Примечание. Если вам нужно только определить количество записей в наборе (и вам не нужны фактические объекты), гораздо эффективнее обрабатывать количество на уровне базы данных, используя SQL SELECT COUNT (*). Именно по этой причине Django предоставляет метод count().  \n",
    "\n",
    "- **list()**. Принудительное вычисление QuerySet путем вызова list() для него. Например:\n",
    "    entry_list = list(Entry.objects.all())  \n",
    "\n",
    "- **bool()**. Тестирование QuerySet в логическом контексте, например, с использованием bool(), or, and или оператора if, вызовет выполнение запроса. Если есть хотя бы один результат, QuerySet равен True, иначе False. Например:\n",
    "\n",
    "    if Entry.objects.filter(headline=\"Test\"):\n",
    "       print(\"There is at least one Entry with the headline Test\")\n",
    "    Примечание. Если вы хотите определить, существует ли хотя бы один результат (и вам не нужны реальные объекты), более эффективно использовать exists()."
   ]
  },
  {
   "cell_type": "markdown",
   "metadata": {},
   "source": [
    "# Как посчитать количество записей в QuerySet?"
   ]
  },
  {
   "cell_type": "code",
   "execution_count": null,
   "metadata": {},
   "outputs": [],
   "source": [
    "query.count()"
   ]
  },
  {
   "cell_type": "markdown",
   "metadata": {},
   "source": [
    "# Как проверить наличие хотя бы одной записи в таблице?"
   ]
  },
  {
   "cell_type": "code",
   "execution_count": null,
   "metadata": {},
   "outputs": [],
   "source": [
    "query.exists()"
   ]
  },
  {
   "cell_type": "code",
   "execution_count": null,
   "metadata": {},
   "outputs": [],
   "source": [
    "# Делает запрос вида\n",
    "SELECT (1) AS \"a\"\n",
    "FROM \"slr_employee\"\n",
    "WHERE (\"slr_employee\".\"ent_id\" = 2\n",
    "       AND \"slr_employee\".\"deleted_by_employee_id\" IS NULL\n",
    "       AND \"slr_employee\".\"id\" = 637)\n",
    "LIMIT 1"
   ]
  },
  {
   "cell_type": "markdown",
   "metadata": {},
   "source": [
    "# В каких случаях следует использовать метод QuerySet.iterator()?"
   ]
  },
  {
   "cell_type": "markdown",
   "metadata": {},
   "source": [
    "Для запросов котрые возвращают большое количество объектов, к которым нам надо получить доступ единожды.\n",
    "Применение iterator к уже вычислинному кверисету, создаст повторный запрос к БД\n",
    "iterator(chunk_size=2000)"
   ]
  },
  {
   "cell_type": "markdown",
   "metadata": {},
   "source": [
    "# Будет ли помещены в кэш данные выборки?"
   ]
  },
  {
   "cell_type": "code",
   "execution_count": null,
   "metadata": {},
   "outputs": [],
   "source": [
    "messages = Messages.objects.filter(name='Fred')\n",
    "for x in messages.iterator():\n",
    "    pass"
   ]
  },
  {
   "cell_type": "markdown",
   "metadata": {},
   "source": [
    "НЕ БУДУТ"
   ]
  },
  {
   "cell_type": "markdown",
   "metadata": {},
   "source": [
    "# Что будет в результате, если запись с id = 1 не существует?"
   ]
  },
  {
   "cell_type": "code",
   "execution_count": null,
   "metadata": {},
   "outputs": [],
   "source": [
    "Users.objects.get(id=1)"
   ]
  },
  {
   "cell_type": "markdown",
   "metadata": {},
   "source": [
    "Ошибка DoesNotExist"
   ]
  },
  {
   "cell_type": "markdown",
   "metadata": {},
   "source": [
    "#  OR"
   ]
  },
  {
   "cell_type": "code",
   "execution_count": null,
   "metadata": {},
   "outputs": [],
   "source": [
    "# 1. \n",
    "RegisterCalcs.objects.filter(\n",
    "    Q(alg_json__isnull=False) | Q(alg_json='\"\"'),\n",
    ")\n",
    "\n",
    "# 2. \n",
    "query1 | query2"
   ]
  },
  {
   "cell_type": "markdown",
   "metadata": {},
   "source": [
    "#  AND"
   ]
  },
  {
   "cell_type": "code",
   "execution_count": null,
   "metadata": {},
   "outputs": [],
   "source": [
    "# 1.\n",
    "filter(<condition_1>, <condition_2>)\n",
    "# 2.\n",
    "queryset_1 & queryset_2\n",
    "# 3.\n",
    "filter(Q(<condition_1>) & Q(<condition_2>))"
   ]
  },
  {
   "cell_type": "markdown",
   "metadata": {},
   "source": [
    "# NOT"
   ]
  },
  {
   "cell_type": "code",
   "execution_count": null,
   "metadata": {},
   "outputs": [],
   "source": [
    "# 1.\n",
    "exclude(<condition>)\n",
    "# 2. \n",
    "filter(~Q(<condition>))"
   ]
  },
  {
   "cell_type": "markdown",
   "metadata": {},
   "source": [
    "# В таблице есть числовое поле count. Как увеличить значение count на единицу одним запросом?"
   ]
  },
  {
   "cell_type": "code",
   "execution_count": null,
   "metadata": {},
   "outputs": [],
   "source": [
    "q.update(count=F('count') + 1)"
   ]
  },
  {
   "cell_type": "markdown",
   "metadata": {},
   "source": [
    "# Чем отличаются commit_on_success() и atomic()?"
   ]
  },
  {
   "cell_type": "markdown",
   "metadata": {},
   "source": [
    "- **commit_on_success** - устаревшая версия Атомика. Если функция отрабатывает без ошибок, то Django фиксирует все изменения, которые она создала. Если функция вызывает исключение, то Django откатывает изменения, созданные в транзакции.\n",
    "\n",
    "\n",
    "- **atomic** Гарантия атомарного (внутри одной транзакции) исполнения заданного блока. Можно использовать либо как декоратор, либо как менеджер контекста.\n",
    "atomic(using=None, savepoint=True) \n",
    "savepoint=True (создает точку сохранения при входе во внутренний атомный блок, и переносит или откатывает точку при выходе из такого блока)\n",
    "using - это потом подставится в Get connection, тоесть какубю базу использовать"
   ]
  },
  {
   "cell_type": "code",
   "execution_count": null,
   "metadata": {},
   "outputs": [],
   "source": [
    "@transaction.atomic\n",
    "def viewfunc(request):\n",
    "    # This code executes inside a transaction.\n",
    "    do_stuff()"
   ]
  },
  {
   "cell_type": "code",
   "execution_count": null,
   "metadata": {},
   "outputs": [],
   "source": [
    "with transaction.atomic():\n",
    "        # This code executes inside a transaction.\n",
    "        do_more_stuff()"
   ]
  },
  {
   "cell_type": "markdown",
   "metadata": {},
   "source": [
    "# QuerySet.select_related(), QuerySet.prefetch_related()"
   ]
  },
  {
   "cell_type": "code",
   "execution_count": null,
   "metadata": {},
   "outputs": [],
   "source": [
    "class Book(Model):\n",
    "    category = ForeignKey(Category)\n",
    "    authors = ManyToManyField(Author)"
   ]
  },
  {
   "cell_type": "markdown",
   "metadata": {},
   "source": [
    "### select_related"
   ]
  },
  {
   "cell_type": "code",
   "execution_count": null,
   "metadata": {},
   "outputs": [],
   "source": [
    "Book.objects.select_related(‘category’).get(pk=book_id)"
   ]
  },
  {
   "cell_type": "markdown",
   "metadata": {},
   "source": [
    "за один запрос вытащит и книгу и категорию и тогда book.category.name уже не сгенерирует запроса. \n",
    "\n",
    "Круто: мы сэкономили один запрос и не получили никаких штрафов. Хочется проделать нечто подобное с авторами, но увы: select_related(‘authors’) сделать не получится. "
   ]
  },
  {
   "cell_type": "code",
   "execution_count": null,
   "metadata": {},
   "outputs": [],
   "source": [
    "# Создаст inner join с таблицей reporter\n",
    "# В селект добавит все поля таблицы reporter\n",
    "Article.objects.select_related('reporter')"
   ]
  },
  {
   "cell_type": "code",
   "execution_count": null,
   "metadata": {},
   "outputs": [],
   "source": [
    "# Создаст inner join с таблицей reporter\n",
    "# Но в селекте будут только поля таблицы Article\n",
    "Article.objects.filter(reporter__username='John')"
   ]
  },
  {
   "cell_type": "markdown",
   "metadata": {},
   "source": [
    "Подерживает только связи **foreign key** and **one-to-one**."
   ]
  },
  {
   "cell_type": "markdown",
   "metadata": {},
   "source": [
    "### prefetch_related"
   ]
  },
  {
   "cell_type": "markdown",
   "metadata": {},
   "source": [
    "выполняет отдельный поиск для каждого отношения и выполняет «соединение» в Python. Это позволяет ему предварительно выбирать объекты «многие ко многим» и «многие к одному», что нельзя сделать с помощью **select_related**"
   ]
  },
  {
   "cell_type": "code",
   "execution_count": null,
   "metadata": {},
   "outputs": [],
   "source": [
    "# Здесь произойдёт два запроса: один вытащит книгу, а другой – всех авторов. \n",
    "# Объединит их уже ORM на стороне Python. Теперь\n",
    "Book.objects.prefetch_related('authors').get(pk=book_id)\n",
    "\n",
    "# не сгенерит запросов, т.к. все в КЭШе будет\n",
    "print([a.full_name for a in book.authors.all()]) "
   ]
  },
  {
   "cell_type": "code",
   "execution_count": null,
   "metadata": {},
   "outputs": [],
   "source": [
    "# Это подразумевает self.toppings.all () для каждой пиццы; \n",
    "# теперь каждый раз, когда вызывается self.toppings.all (), \n",
    "# вместо того, чтобы обращаться к базе данных для элементов, \n",
    "# он находит их в предварительно выбранном кеше QuerySet, который был заполнен в одном запросе\n",
    "\n",
    "query = Pizza.objects.all().prefetch_related('toppings')\n",
    "# возьмет данные из КЭША\n",
    "[{pizza.name: list(pizza.toppings.all())} for pizza in query]"
   ]
  },
  {
   "cell_type": "markdown",
   "metadata": {},
   "source": [
    "# QuerySet.values() and values_list()"
   ]
  },
  {
   "cell_type": "markdown",
   "metadata": {},
   "source": [
    "- **values**\n",
    "Возвращает queryset, словарь содержащий указанные поля"
   ]
  },
  {
   "cell_type": "code",
   "execution_count": null,
   "metadata": {},
   "outputs": [],
   "source": [
    ">>> Blog.objects.filter(name__startswith='Beatles')\n",
    "<QuerySet [<Blog: Beatles Blog>]>\n",
    "\n",
    ">>> Blog.objects.filter(name__startswith='Beatles').values()\n",
    "<QuerySet [{'id': 1, 'name': 'Beatles Blog', 'tagline': 'All the latest Beatles news.'}]>"
   ]
  },
  {
   "cell_type": "markdown",
   "metadata": {},
   "source": [
    "- **values_list** \n",
    "Похоже на values, только возвращает не словарь а кортеж"
   ]
  },
  {
   "cell_type": "code",
   "execution_count": 1,
   "metadata": {},
   "outputs": [
    {
     "ename": "SyntaxError",
     "evalue": "invalid syntax (<ipython-input-1-b1b937f7c2e6>, line 2)",
     "output_type": "error",
     "traceback": [
      "\u001b[0;36m  File \u001b[0;32m\"<ipython-input-1-b1b937f7c2e6>\"\u001b[0;36m, line \u001b[0;32m2\u001b[0m\n\u001b[0;31m    <QuerySet [(1, 'First entry'), ...]>\u001b[0m\n\u001b[0m    ^\u001b[0m\n\u001b[0;31mSyntaxError\u001b[0m\u001b[0;31m:\u001b[0m invalid syntax\n"
     ]
    }
   ],
   "source": [
    ">>> Entry.objects.values_list('id', 'headline')\n",
    "<QuerySet [(1, 'First entry'), ...]>\n",
    ">>> Entry.objects.values_list('id', Lower('headline'))\n",
    "<QuerySet [(1, 'first entry'), ...]>"
   ]
  },
  {
   "cell_type": "markdown",
   "metadata": {},
   "source": [
    "# QuerySet.defer() and only()"
   ]
  },
  {
   "cell_type": "markdown",
   "metadata": {},
   "source": [
    "- **defer** \n",
    "Можно указать Джанге, не извлекать поля из базы (если они например большие а обрабатывать сейчас нам их не надо)\n",
    "- **only** \n",
    "более или менее противоположен defer (). Указываем те поля, которые должны быть получены при запросе"
   ]
  },
  {
   "cell_type": "code",
   "execution_count": null,
   "metadata": {},
   "outputs": [],
   "source": [
    "Entry.objects.defer(\"headline\", \"body\")\n",
    "Blog.objects.select_related().defer(\"entry__headline\", \"entry__body\")"
   ]
  },
  {
   "cell_type": "code",
   "execution_count": null,
   "metadata": {},
   "outputs": [],
   "source": [
    "# одинаковые запросы\n",
    "Person.objects.defer(\"age\", \"biography\")\n",
    "Person.objects.only(\"name\")"
   ]
  },
  {
   "cell_type": "markdown",
   "metadata": {},
   "source": [
    "# QuerySet.annotate() and QuerySet.aggregate()"
   ]
  },
  {
   "cell_type": "markdown",
   "metadata": {},
   "source": [
    "- **aggregate**\n",
    "\n",
    "Группирует результаты с агрегирующими функциями"
   ]
  },
  {
   "cell_type": "code",
   "execution_count": null,
   "metadata": {},
   "outputs": [],
   "source": [
    " User.objects.all().aggregate(Avg('id'))\n",
    "{'id__avg': 7.571428571428571}\n",
    "\n",
    "User.objects.all().aggregate(Max('id'))\n",
    "{'id__max': 15}\n",
    "\n",
    "User.objects.all().aggregate(Min('id'))\n",
    "{'id__min': 1}\n",
    "\n",
    "User.objects.all().aggregate(Sum('id'))\n",
    "{'id__sum': 106}"
   ]
  },
  {
   "cell_type": "markdown",
   "metadata": {},
   "source": [
    "- **annotate**\n",
    "Создает поле, и добавляет к каждой строке новое значение"
   ]
  },
  {
   "cell_type": "code",
   "execution_count": null,
   "metadata": {},
   "outputs": [],
   "source": [
    "q = Blog.objects.annotate(Count('entry'))\n",
    "# The name of the first blog\n",
    "\n",
    "q[0].name\n",
    "'Blogasaurus'\n",
    "\n",
    "# The number of entries on the first blog\n",
    "q[0].entry__count\n",
    "42"
   ]
  },
  {
   "cell_type": "code",
   "execution_count": null,
   "metadata": {},
   "outputs": [],
   "source": [
    "# тот же вариант\n",
    "Blog.objects.annotate(number_of_entries=Count('entry'))"
   ]
  },
  {
   "cell_type": "markdown",
   "metadata": {},
   "source": [
    "# mptt"
   ]
  },
  {
   "cell_type": "markdown",
   "metadata": {},
   "source": [
    "## bulk_create"
   ]
  },
  {
   "cell_type": "code",
   "execution_count": null,
   "metadata": {},
   "outputs": [],
   "source": [
    "Используется для создания множественных объектов"
   ]
  },
  {
   "cell_type": "code",
   "execution_count": null,
   "metadata": {},
   "outputs": [],
   "source": [
    ">>> Category.objects.all().count()\n",
    "2\n",
    ">>> Category.objects.bulk_create(\n",
    "    [Category(name=\"God\"),\n",
    "     Category(name=\"Demi God\"),\n",
    "     Category(name=\"Mortal\")]\n",
    ")\n",
    "[<Category: God>, <Category: Demi God>, <Category: Mortal>]\n",
    ">>> Category.objects.all().count()\n",
    "5"
   ]
  },
  {
   "cell_type": "markdown",
   "metadata": {},
   "source": [
    "## signals"
   ]
  },
  {
   "cell_type": "markdown",
   "metadata": {},
   "source": [
    "- pre_init\n",
    "- post_init\n",
    "- pre_save\n",
    "- post_save\n",
    "- pre_delete\n",
    "- post_delete"
   ]
  },
  {
   "cell_type": "code",
   "execution_count": null,
   "metadata": {},
   "outputs": [],
   "source": [
    "# Пример использования в проекте\n",
    "post_save.connect(_reg.post_save_handler, sender=AccEntry, weak=False)\n",
    "post_save.connect(create_oper_entry_after_save, sender=AccEntry, weak=False)"
   ]
  },
  {
   "cell_type": "markdown",
   "metadata": {},
   "source": [
    "## Работа с несколькими ДБ"
   ]
  },
  {
   "cell_type": "code",
   "execution_count": null,
   "metadata": {},
   "outputs": [],
   "source": [
    "DATABASE_ROUTERS = ['path.to.DemoRouter']\n",
    "DATABASE_APPS_MAPPING = {'user_data': 'users_db',\n",
    "                        'customer_data':'customers_db'}\n",
    "\n",
    "DATABASES = {\n",
    "    'default': {\n",
    "        'ENGINE': 'django.db.backends.sqlite3',\n",
    "        'NAME': os.path.join(BASE_DIR, 'db.sqlite3'),\n",
    "    },\n",
    "    'users_db': {\n",
    "        'NAME': 'user_data',\n",
    "        'ENGINE': 'django.db.backends.postgresql',\n",
    "        'USER': 'postgres_user',\n",
    "        'PASSWORD': 'password'\n",
    "    },\n",
    "    'customers_db': {\n",
    "        'NAME': 'customer_data',\n",
    "        'ENGINE': 'django.db.backends.mysql',\n",
    "        'USER': 'mysql_cust',\n",
    "        'PASSWORD': 'root'\n",
    "    }\n",
    "}\n",
    "\n",
    "class User(models.Model):\n",
    "    username = models.Charfield(ax_length=100)\n",
    "    . . .\n",
    "        class Meta:\n",
    "        app_label = 'user_data'"
   ]
  },
  {
   "cell_type": "markdown",
   "metadata": {},
   "source": [
    "# middleware"
   ]
  },
  {
   "cell_type": "markdown",
   "metadata": {},
   "source": [
    "Промежуточное программное (ПРОСЛОЙКА скозь которую пролетает запрос) обеспечение является основой для обработки запросов / ответов Django. Это легкая низкоуровневая «плагинная» система для глобального изменения входа или выхода Django."
   ]
  },
  {
   "cell_type": "markdown",
   "metadata": {},
   "source": [
    "Каждый компонент  **middleware** обеспечения отвечает за выполнение определенной функции. Например, Django включает компонент **middleware** AuthenticationMiddleware, который связывает пользователей с запросами, использующими сеансы."
   ]
  },
  {
   "cell_type": "code",
   "execution_count": null,
   "metadata": {},
   "outputs": [],
   "source": [
    "class SimpleMiddleware:\n",
    "    def __init__(self, get_response):\n",
    "        self.get_response = get_response\n",
    "        # One-time configuration and initialization.\n",
    "\n",
    "    def __call__(self, request):\n",
    "        # Code to be executed for each request before\n",
    "        # the view (and later middleware) are called.\n",
    "\n",
    "        response = self.get_response(request)\n",
    "\n",
    "        # Code to be executed for each request/response after\n",
    "        # the view is called.\n",
    "\n",
    "        return response"
   ]
  },
  {
   "cell_type": "markdown",
   "metadata": {},
   "source": [
    "# Для чего используется пакет django-south?"
   ]
  },
  {
   "cell_type": "markdown",
   "metadata": {},
   "source": [
    "Тулза для проведения миграций"
   ]
  },
  {
   "cell_type": "markdown",
   "metadata": {},
   "source": [
    "### Отношения один к одному"
   ]
  },
  {
   "cell_type": "markdown",
   "metadata": {},
   "source": [
    "![one](attest_image/one_to_one.png)"
   ]
  },
  {
   "cell_type": "markdown",
   "metadata": {},
   "source": [
    "### Отношения \"один ко многим\" и \"многие к одному\" (ForeignKey в Django)"
   ]
  },
  {
   "cell_type": "markdown",
   "metadata": {},
   "source": [
    "![one](attest_image/many_to_one.png)"
   ]
  },
  {
   "cell_type": "markdown",
   "metadata": {},
   "source": [
    "### Отношения \"многие ко многим\""
   ]
  },
  {
   "cell_type": "markdown",
   "metadata": {},
   "source": [
    "![one](attest_image/many_to_many.png)"
   ]
  },
  {
   "cell_type": "markdown",
   "metadata": {},
   "source": [
    "## blank=True\n",
    "позволит сохранять пустое значение в поле"
   ]
  },
  {
   "cell_type": "markdown",
   "metadata": {},
   "source": [
    "##  Если строковое поле содержит null=True\n",
    "это означает, что оно может содержать два возможных “пустых” значения: NULL и пустую строку"
   ]
  },
  {
   "cell_type": "markdown",
   "metadata": {},
   "source": [
    "## Как включить во внешний ключ ссылку на значение этой же таблицы"
   ]
  },
  {
   "cell_type": "code",
   "execution_count": null,
   "metadata": {},
   "outputs": [],
   "source": [
    "class Employee(models.Model):\n",
    "    manager = models.ForeignKey('self', on_delete=models.CASCADE)"
   ]
  },
  {
   "cell_type": "markdown",
   "metadata": {},
   "source": [
    "## How to use a UUID instead of ID as primary key?"
   ]
  },
  {
   "cell_type": "code",
   "execution_count": null,
   "metadata": {},
   "outputs": [],
   "source": [
    "import uuid\n",
    "from django.db import models\n",
    "\n",
    "class Event(models.Model):\n",
    "    id = models.UUIDField(primary_key=True, default=uuid.uuid4, editable=False)\n",
    "    details = models.TextField()\n",
    "    years_ago = models.PositiveIntegerField()\n",
    "\n",
    ">>> eventobject = Event.objects.all()\n",
    ">>> eventobject.first().id\n",
    "'3cd2b4b0c36f43488a93b3bb72029f46'"
   ]
  },
  {
   "cell_type": "markdown",
   "metadata": {},
   "source": [
    "## F\n",
    "F() в Django ORM позволит вам использовать поля текущей модели в ваших запросах"
   ]
  },
  {
   "cell_type": "markdown",
   "metadata": {},
   "source": [
    "## Q\n",
    "Можно строить выражения OR, NOT"
   ]
  },
  {
   "cell_type": "markdown",
   "metadata": {},
   "source": [
    "## Func\n",
    "Позволяет задействовать любую функцию доступную в БД"
   ]
  },
  {
   "cell_type": "code",
   "execution_count": null,
   "metadata": {},
   "outputs": [],
   "source": [
    "candidates.update(\n",
    "    iname=Func(\n",
    "        F('iname'), Value(' '), Value(''),\n",
    "        function='replace'\n",
    "    )\n",
    ")"
   ]
  },
  {
   "cell_type": "markdown",
   "metadata": {},
   "source": [
    "## Логические выражения (Field lookups)"
   ]
  },
  {
   "cell_type": "markdown",
   "metadata": {},
   "source": [
    "https://docs.djangoproject.com/en/3.0/ref/models/querysets/#field-lookups"
   ]
  },
  {
   "cell_type": "code",
   "execution_count": null,
   "metadata": {},
   "outputs": [],
   "source": [
    "Blog.objects.get(name__iexact='beatles blog')\n",
    "SELECT ... WHERE name ILIKE 'beatles blog';"
   ]
  },
  {
   "cell_type": "code",
   "execution_count": null,
   "metadata": {},
   "outputs": [],
   "source": [
    "Entry.objects.get(headline__contains='Lennon')\n",
    "SELECT ... WHERE headline LIKE '%Lennon%';"
   ]
  },
  {
   "cell_type": "code",
   "execution_count": null,
   "metadata": {},
   "outputs": [],
   "source": [
    "Entry.objects.get(headline__icontains='Lennon')\n",
    "SELECT ... WHERE headline ILIKE '%Lennon%';"
   ]
  },
  {
   "cell_type": "code",
   "execution_count": null,
   "metadata": {},
   "outputs": [],
   "source": [
    "Entry.objects.filter(id__gt=4)\n",
    "SELECT ... WHERE id > 4;"
   ]
  },
  {
   "cell_type": "code",
   "execution_count": null,
   "metadata": {},
   "outputs": [],
   "source": [
    "Entry.objects.filter(pub_date__range=(start_date, end_date))\n",
    "SELECT ... WHERE pub_date BETWEEN '2005-01-01' and '2005-03-31';"
   ]
  },
  {
   "cell_type": "code",
   "execution_count": null,
   "metadata": {},
   "outputs": [],
   "source": [
    "Entry.objects.get(title__regex=r'^(An?|The) +')\n",
    "SELECT ... WHERE title ~ '^(An?|The) +'; -- PostgreSQL"
   ]
  },
  {
   "cell_type": "markdown",
   "metadata": {},
   "source": [
    "# Оптимизация запросов"
   ]
  },
  {
   "cell_type": "code",
   "execution_count": null,
   "metadata": {},
   "outputs": [],
   "source": [
    "# Массовые изменения (update)\n",
    "Model.object.filter(id=instance.id).update(field=computed_value)\n",
    "\n",
    "# Массовая вставка (bulk_create([obj1, obj2, obj3]))\n",
    "author_instances = []\n",
    "for author in data:\n",
    "    author_instances.append(self._import_author(author))\n",
    "Author.objects.bulk_create(author_instances)\n",
    "\n",
    "# Массовая вставка M2M\n",
    "article.tags.add(*tags)\n",
    "\n",
    "# Массовое удаление объектов\n",
    "Article.objects.filter(tags__name='minus').delete()\n",
    "\n",
    "# Iterator\n",
    "Article.objects.select_related('author').iterator()\n",
    "\n",
    "# Использование внешних ключей\n",
    "origin_article.author_id\n",
    "\n",
    "# Получение связанных объектов\n",
    "select_related()\n",
    "prefech_related()\n",
    "\n",
    "# Ограничение полей в выборках\n",
    "defer()\n",
    "only()\n",
    "\n",
    "# Индексы БД\n",
    "# count(), exists\n",
    "\n",
    "# Ленивый QuerySet, кэш\n"
   ]
  }
 ],
 "metadata": {
  "kernelspec": {
   "display_name": "Python 3",
   "language": "python",
   "name": "python3"
  },
  "language_info": {
   "codemirror_mode": {
    "name": "ipython",
    "version": 3
   },
   "file_extension": ".py",
   "mimetype": "text/x-python",
   "name": "python",
   "nbconvert_exporter": "python",
   "pygments_lexer": "ipython3",
   "version": "3.7.6"
  }
 },
 "nbformat": 4,
 "nbformat_minor": 2
}
