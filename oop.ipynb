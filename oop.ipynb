{
 "cells": [
  {
   "cell_type": "markdown",
   "metadata": {
    "collapsed": true
   },
   "source": [
    "# Что такое ООП"
   ]
  },
  {
   "cell_type": "markdown",
   "metadata": {},
   "source": [
    "Представление программы в форме\n",
    "взаимодействующих объектов"
   ]
  },
  {
   "cell_type": "markdown",
   "metadata": {},
   "source": [
    "Основные механизмы управления/абстракции:\n",
    "* Объект\n",
    "* Класс\n",
    "* Иерархии классов/объектов\n",
    "* Полиморфизм\n",
    "\n",
    "Элементарные единицы модульности:\n",
    "* Класс (примечание: в наиболее распространенной\n",
    "интерпретации)\n",
    "\n",
    "Объект характеризуется:\n",
    "* поведением;\n",
    "* состоянием;\n",
    "* уникальностью (identity);"
   ]
  },
  {
   "cell_type": "markdown",
   "metadata": {},
   "source": [
    "# Чем ООП отличается от других парадигм программирования"
   ]
  },
  {
   "cell_type": "markdown",
   "metadata": {},
   "source": [
    "## Функциональноe программирование"
   ]
  },
  {
   "cell_type": "markdown",
   "metadata": {},
   "source": [
    "https://habr.com/ru/post/142351/"
   ]
  },
  {
   "cell_type": "markdown",
   "metadata": {},
   "source": [
    "Представление программы в форме набора чистых\n",
    "функций, порождающих результаты на основе входных\n",
    "данных"
   ]
  },
  {
   "cell_type": "markdown",
   "metadata": {},
   "source": [
    "Основные механизмы управления/абстракции:\n",
    "* Чистая функция, как объект первого класса\n",
    "* Вызов функции (в т.ч. рекурсивный)\n",
    "* Лексический контекст, замыкание\n",
    "\n",
    "Элементарные единицы модульности:\n",
    "* Функция (в т.ч. высшего порядка, обобщенная и т.д.)"
   ]
  },
  {
   "cell_type": "markdown",
   "metadata": {},
   "source": [
    "Настоящее ООП нацелено на разделение обязанностей и сокрытие информации. Т.е. выделение сущностей из задачи, создание АПИ у каждой из сущности, для взаимодействия сущностей между собой по АПИ. \n",
    "\n"
   ]
  },
  {
   "cell_type": "markdown",
   "metadata": {},
   "source": [
    "ФП тоже о разделении обязанностей и тоже призвано структурировать лапшекод, но немного по-другому. Это так:"
   ]
  },
  {
   "cell_type": "markdown",
   "metadata": {},
   "source": [
    "данные → функция1 → данные → функция2 → данные → функция3 → результат\n"
   ]
  },
  {
   "cell_type": "markdown",
   "metadata": {},
   "source": [
    "Подходит например для задачки о прасинге данных из соцсетей. Где есть люди, есть группы, сообщества, города, пол. И куча других параметров.\n",
    "И нам например надо получить людей в возрасте от 20-30 из города Киров, интересующихся автомобилями. Фильтры могут менятся местами и комбинироваться по разному.  \n",
    "Здесь вместо объектов, объединяющих данные с поведением, всё разнесено раздельно на сами данные и на их обработчики. Каждый обработчик представляет из себя функцию, принимающую исходные данные и возвращающую результат."
   ]
  },
  {
   "cell_type": "markdown",
   "metadata": {},
   "source": [
    "Например, нам нужно к товарам в корзине начислить скидку на один экземпляр каждого, которого заказали больше трёх. Вместо возни с циклами, методами и прочим низкоуровневым мусором мы просто определяем, какие фильтры и преобразователи нам нужны"
   ]
  },
  {
   "cell_type": "markdown",
   "metadata": {},
   "source": [
    "У меня функциональный подход ассоциируется с таким:\n",
    "const f = (x = 5) => y => x + y(3);\n",
    "\n",
    "И еще это лямбда-исчесления f(x(y()))(), много скобочек LISP\n",
    "И наркоманские задачки про числа черча..\n",
    "\n",
    "Замыкание, карирование, спреды, Частичное применение"
   ]
  },
  {
   "cell_type": "markdown",
   "metadata": {},
   "source": [
    "Функциональное программирование — это практическая реализация идей Алонзо Чёрча. Не все идеи Лямбда-исчисления переросли в практическую сферу, так как лямбда-исчисления не учитывали физических ограничений. Тем не менее, как и ОО программирование, функциональное программирование — это набор идей, а не набор четких указаний. Существует много функциональных языков, и большинство из них делают одни схожие вещи по разному. В данной статье я объясню наиболее широко используемые идеи из функциональных языков используя примеры на Java (да, вы можете писать функциональные программы на Java если у вас есть склонности к мазохизму). В следующих нескольких разделах мы возьмём язык Java и внесём в него изменения, чтобы он превратился в пригодный к использованию функциональный язык. Начнём наше путешествие."
   ]
  },
  {
   "cell_type": "markdown",
   "metadata": {},
   "source": [
    "## Инкапсуляция, полиморфизм, наследование"
   ]
  },
  {
   "cell_type": "markdown",
   "metadata": {},
   "source": [
    "**Инкапсуляция** - сокрытие внутренний реализации.\n",
    "В python-е есть свои особенности"
   ]
  },
  {
   "cell_type": "markdown",
   "metadata": {},
   "source": [
    "Модули должны быть друг для друга \"черными ящиками\" (инкапсуляция). Это означает, что один модуль не должен «лезть» внутрь другого модуля и что либо знать о его внутренней структуре. Объекты одной подсистемы не должны обращаться напрямую к объектам другой подсистемы"
   ]
  },
  {
   "cell_type": "code",
   "execution_count": 9,
   "metadata": {},
   "outputs": [
    {
     "name": "stdout",
     "output_type": "stream",
     "text": [
      "Bob\n",
      "__dict__ {'name': 'Bob'}\n",
      "dir ['_Man__very_private_method', '__class__', '__delattr__', '__dict__', '__dir__', '__doc__', '__eq__', '__format__', '__ge__', '__getattribute__', '__gt__', '__hash__', '__init__', '__init_subclass__', '__le__', '__lt__', '__module__', '__ne__', '__new__', '__reduce__', '__reduce_ex__', '__repr__', '__setattr__', '__sizeof__', '__str__', '__subclasshook__', '__weakref__', '_private_method', 'name']\n",
      "Bob, hello!\n"
     ]
    },
    {
     "ename": "AttributeError",
     "evalue": "'Man' object has no attribute '__very_private_method'",
     "output_type": "error",
     "traceback": [
      "\u001b[0;31m---------------------------------------------------------------------------\u001b[0m",
      "\u001b[0;31mAttributeError\u001b[0m                            Traceback (most recent call last)",
      "\u001b[0;32m<ipython-input-9-1b76eccfdcd2>\u001b[0m in \u001b[0;36m<module>\u001b[0;34m\u001b[0m\n\u001b[1;32m     12\u001b[0m \u001b[0mprint\u001b[0m\u001b[0;34m(\u001b[0m\u001b[0;34m'dir'\u001b[0m\u001b[0;34m,\u001b[0m \u001b[0mdir\u001b[0m\u001b[0;34m(\u001b[0m\u001b[0mbob\u001b[0m\u001b[0;34m)\u001b[0m\u001b[0;34m)\u001b[0m\u001b[0;34m\u001b[0m\u001b[0;34m\u001b[0m\u001b[0m\n\u001b[1;32m     13\u001b[0m \u001b[0mprint\u001b[0m\u001b[0;34m(\u001b[0m\u001b[0mbob\u001b[0m\u001b[0;34m.\u001b[0m\u001b[0m_Man__very_private_method\u001b[0m\u001b[0;34m(\u001b[0m\u001b[0;34m)\u001b[0m\u001b[0;34m)\u001b[0m\u001b[0;34m\u001b[0m\u001b[0;34m\u001b[0m\u001b[0m\n\u001b[0;32m---> 14\u001b[0;31m \u001b[0mprint\u001b[0m\u001b[0;34m(\u001b[0m\u001b[0mbob\u001b[0m\u001b[0;34m.\u001b[0m\u001b[0m__very_private_method\u001b[0m\u001b[0;34m(\u001b[0m\u001b[0;34m)\u001b[0m\u001b[0;34m)\u001b[0m\u001b[0;34m\u001b[0m\u001b[0;34m\u001b[0m\u001b[0m\n\u001b[0m",
      "\u001b[0;31mAttributeError\u001b[0m: 'Man' object has no attribute '__very_private_method'"
     ]
    }
   ],
   "source": [
    "class Man:\n",
    "    \n",
    "    def __init__(self, name):\n",
    "        self.name = name\n",
    "        \n",
    "    def _private_method(self):\n",
    "        return self.name\n",
    "    \n",
    "    def __very_private_method(self):\n",
    "        return self.name + ', hello!'\n",
    "    \n",
    "bob = Man('Bob')\n",
    "print(bob._private_method())\n",
    "print('__dict__', bob.__dict__)\n",
    "print('dir', dir(bob))\n",
    "print(bob._Man__very_private_method())\n",
    "print(bob.__very_private_method())\n"
   ]
  },
  {
   "cell_type": "markdown",
   "metadata": {},
   "source": [
    "**Наследование**"
   ]
  },
  {
   "cell_type": "code",
   "execution_count": 11,
   "metadata": {},
   "outputs": [
    {
     "name": "stdout",
     "output_type": "stream",
     "text": [
      "Anna\n"
     ]
    }
   ],
   "source": [
    "class Woman(Man):\n",
    "    pass\n",
    "\n",
    "anna = Woman('Anna')\n",
    "print(anna._private_method())"
   ]
  },
  {
   "cell_type": "markdown",
   "metadata": {},
   "source": [
    "**Полиморфизм**"
   ]
  },
  {
   "cell_type": "markdown",
   "metadata": {},
   "source": [
    "Один и тот же код используется для объектов разных классов. Т.е. если класс если мы уверены, что у всех объъектов есть определенный набор методов, то вызываем их не задумываясь о том какой у нас объект"
   ]
  },
  {
   "cell_type": "code",
   "execution_count": 13,
   "metadata": {},
   "outputs": [
    {
     "name": "stdout",
     "output_type": "stream",
     "text": [
      "Woof\n",
      "may\n"
     ]
    }
   ],
   "source": [
    "class Cat:\n",
    "    def say(self):\n",
    "        return 'may'\n",
    "    \n",
    "class Dog:\n",
    "    def say(self):\n",
    "        return 'Woof'\n",
    "    \n",
    "d = Dog()\n",
    "c = Cat()\n",
    "for animal in [d, c]:\n",
    "    print(animal.say())"
   ]
  },
  {
   "cell_type": "markdown",
   "metadata": {},
   "source": [
    "**Конструкторы, деструкторы**"
   ]
  },
  {
   "cell_type": "markdown",
   "metadata": {},
   "source": [
    "в питоне это методы \n",
    "__init__()- конструктор\n",
    "\n",
    "__del__ – деструктор . Он вызывается, когда объект собирает мусор, который происходит после удаления всех ссылок на объект. Поэтому это может и не произойти при непосредственном вызове **del**."
   ]
  },
  {
   "cell_type": "code",
   "execution_count": 18,
   "metadata": {},
   "outputs": [
    {
     "name": "stdout",
     "output_type": "stream",
     "text": [
      "Тут создается объект\n",
      "Тут объект удаляется\n"
     ]
    }
   ],
   "source": [
    "class SomeClass:\n",
    "    def __init__(self):\n",
    "        print('Тут создается объект')\n",
    "    def __del__(self, *args, **kwargs):\n",
    "        print('Тут объект удаляется')\n",
    "    \n",
    "obj = SomeClass()\n",
    "del obj"
   ]
  },
  {
   "cell_type": "markdown",
   "metadata": {},
   "source": [
    "# SOLID"
   ]
  },
  {
   "cell_type": "markdown",
   "metadata": {},
   "source": [
    "- S: Single Responsibility Principle (Принцип единственной ответственности).\n",
    "- O: Open-Closed Principle (Принцип открытости-закрытости).\n",
    "- L: Liskov Substitution Principle (Принцип подстановки Барбары Лисков).\n",
    "- I: Interface Segregation Principle (Принцип разделения интерфейса).\n",
    "- D: Dependency Inversion Principle (Принцип инверсии зависимостей)."
   ]
  },
  {
   "cell_type": "markdown",
   "metadata": {},
   "source": [
    "## S: Single Responsibility Principle (Принцип единственной ответственности)"
   ]
  },
  {
   "cell_type": "markdown",
   "metadata": {},
   "source": [
    "Класс должен быть ответственен лишь за что-то одно. Если класс отвечает за решение нескольких задач, его подсистемы, реализующие решение этих задач, оказываются связанными друг с другом. Изменения в одной такой подсистеме ведут к изменениям в другой.\n",
    "Обратите внимание на то, что этот принцип применим не только к классам, но и к компонентам программного обеспечения в более широком смысле."
   ]
  },
  {
   "cell_type": "code",
   "execution_count": 20,
   "metadata": {},
   "outputs": [],
   "source": [
    "class Animal:\n",
    "    \n",
    "    def __init__(self, name):\n",
    "        self.name = name\n",
    "        \n",
    "    def get_name():\n",
    "        return self.name\n",
    "    \n",
    "    def save_in_db(self):\n",
    "        pass"
   ]
  },
  {
   "cell_type": "markdown",
   "metadata": {},
   "source": [
    "Пример нарушения этого принципа, т.к. Сам класс по мимо описания животного еще и сохранением данных в БД занимается..  Исправим это."
   ]
  },
  {
   "cell_type": "code",
   "execution_count": 2,
   "metadata": {},
   "outputs": [],
   "source": [
    "class Animal:\n",
    "    \n",
    "    def __init__(self, name):\n",
    "        self.name = name\n",
    "        \n",
    "    def get_name():\n",
    "        return self.name\n",
    "    \n",
    "class AnimalDB:\n",
    "    \n",
    "    def get_animal(self):\n",
    "        # ищет объект в базе данных и возвращает его\n",
    "        return Animal()\n",
    "    \n",
    "    def save_animal(self, animal):\n",
    "        pass"
   ]
  },
  {
   "cell_type": "markdown",
   "metadata": {},
   "source": [
    "## O: Open-Closed Principle (Принцип открытости-закрытости)"
   ]
  },
  {
   "cell_type": "markdown",
   "metadata": {},
   "source": [
    "Программные сущности (классы, модули, функции) должны быть открыты для расширения, но не для модификации."
   ]
  },
  {
   "cell_type": "markdown",
   "metadata": {},
   "source": [
    "Иными словами: Должна быть возможность расширить/изменить поведение системы без изменения/переписывания уже существующих частей системы."
   ]
  },
  {
   "cell_type": "markdown",
   "metadata": {},
   "source": [
    "Это означает, что приложение следует проектировать так, чтобы изменение его поведения и добавление новой функциональности достигалось бы за счет написания нового кода (расширения), и при этом не приходилось бы менять уже существующий код. В таком случае появление новых требований не повлечет за собой модификацию существующей логики, а сможет быть реализовано прежде всего за счет ее расширения. Именно этот принцип является основой «плагинной архитектуры»"
   ]
  },
  {
   "cell_type": "code",
   "execution_count": 4,
   "metadata": {},
   "outputs": [
    {
     "name": "stdout",
     "output_type": "stream",
     "text": [
      "roar\n",
      "wuuuu\n"
     ]
    }
   ],
   "source": [
    "animals = [Animal('lion'), Animal('wolf')]\n",
    "\n",
    "def animal_sounds(animals):\n",
    "    for animal in animals:\n",
    "        if animal.name == 'lion':\n",
    "            print('roar')\n",
    "        if animal.name == 'wolf':\n",
    "            print('wuuuu')\n",
    "            \n",
    "animal_sounds(animals)"
   ]
  },
  {
   "cell_type": "markdown",
   "metadata": {},
   "source": [
    "Функция **animal_sounds** не соответствует принципу открытости-закрытости, так как, например, при появлении новых видов животных, нам, для того, чтобы с её помощью можно было бы узнавать звуки, издаваемые ими, придётся её изменить."
   ]
  },
  {
   "cell_type": "code",
   "execution_count": 5,
   "metadata": {},
   "outputs": [
    {
     "name": "stdout",
     "output_type": "stream",
     "text": [
      "roar\n",
      "wuuuu\n"
     ]
    }
   ],
   "source": [
    "class Animal:\n",
    "    def make_sound(self):\n",
    "        pass\n",
    "\n",
    "class Lion(Animal):\n",
    "    def make_sound(self):\n",
    "        print('roar')\n",
    "\n",
    "class Wolf(Animal):\n",
    "    def make_sound(self):\n",
    "        print('wuuuu')\n",
    "\n",
    "def animal_sounds(animals):\n",
    "    for animal in animals:\n",
    "        animal.make_sound()\n",
    "\n",
    "animal_sounds((Lion(), Wolf()))"
   ]
  },
  {
   "cell_type": "markdown",
   "metadata": {},
   "source": [
    "## O: Open-Closed Principle (Принцип открытости-закрытости)."
   ]
  },
  {
   "cell_type": "markdown",
   "metadata": {},
   "source": [
    "Цель этого принципа заключаются в том, чтобы классы-наследники могли бы использоваться вместо родительских классов, от которых они образованы, не нарушая работу программы. Если оказывается, что в коде проверяется тип класса, значит принцип подстановки нарушается."
   ]
  },
  {
   "cell_type": "markdown",
   "metadata": {},
   "source": [
    "## I: Interface Segregation Principle (Принцип разделения интерфейса)"
   ]
  },
  {
   "cell_type": "markdown",
   "metadata": {},
   "source": [
    "Интерфейсы позволяют строить систему более высокого уровня, рассматривая каждую подсистему как единое целое и игнорируя ее внутреннее устройство. Они дают возможность модулям взаимодействовать и при этом ничего не знать о внутренней структуре друг друга, тем самым в полной мере реализуя принцип минимального знания, являющейся основой слабой связанности. Причем, чем в более общей/абстрактной форме определены интерфейсы и чем меньше ограничений они накладывают на взаимодействие, тем гибче система. Отсюда фактически следует еще один из принципов SOLID — Принцип разделения интерфейса (Interface Segregation Principle), который выступает против «толстых интерфейсов» и говорит, что большие, объемные интерфейсы надо разбивать на более маленькие и специфические, чтобы клиенты маленьких интерфейсов (зависящие модули) знали только о методах, которые необходимы им в работе. Формулируется он следующим образом: \"Клиенты не должны зависеть от методов (знать о методах), которые они не используют\" или “Много специализированных интерфейсов лучше, чем один универсальный”."
   ]
  },
  {
   "cell_type": "code",
   "execution_count": null,
   "metadata": {},
   "outputs": [],
   "source": [
    "# НЕ ПРАВИЛЬНО\n",
    "class InterFaseShape:\n",
    "    def draw_circle(self):\n",
    "        pass\n",
    "    def draw_square(self):\n",
    "        pass\n",
    "    \n",
    "class Circle(InterFaseShape):\n",
    "    def draw_circle(self):\n",
    "        return 'circle'\n",
    "    def draw_square(self):\n",
    "        return 'square'"
   ]
  },
  {
   "cell_type": "code",
   "execution_count": null,
   "metadata": {},
   "outputs": [],
   "source": [
    "# ПРАВИЛЬНО\n",
    "class InterFaseCircle:\n",
    "    def draw_circle(self):\n",
    "        pass\n",
    "\n",
    "class InterFaseSquare:\n",
    "    def draw_square(self):\n",
    "        pass\n",
    "\n",
    "class Circle(InterFaseCircle):\n",
    "    def draw_circle(self):\n",
    "        return 'circle'\n",
    "    \n",
    "class Square(InterFaseSquare):\n",
    "    def draw_square(self):\n",
    "        return 'square'"
   ]
  },
  {
   "cell_type": "markdown",
   "metadata": {},
   "source": [
    "## D: Dependency Inversion Principle (Принцип инверсии зависимостей)."
   ]
  },
  {
   "cell_type": "markdown",
   "metadata": {},
   "source": [
    "**зависимость (dependency)** — изменение в одной сущности (независимой) может влиять на состояние или поведение другой сущности (зависимой). Со стороны стрелки указывается независимая сущность."
   ]
  },
  {
   "cell_type": "markdown",
   "metadata": {},
   "source": [
    "http://www.skipy.ru/architecture/module_design.html#principles"
   ]
  },
  {
   "cell_type": "markdown",
   "metadata": {},
   "source": [
    "Объектом зависимости должна быть абстракция, а не что-то конкретное.\n",
    "- Модули верхних уровней не должны зависеть от модулей нижних уровней. Оба типа модулей должны зависеть от абстракций.\n",
    "- Абстракции не должны зависеть от деталей. Детали должны зависеть от абстракций."
   ]
  },
  {
   "cell_type": "markdown",
   "metadata": {},
   "source": [
    "У этого принципа не самая очевидная формулировка, но суть его, как и было сказано, выражается правилом: «Все зависимости должны быть в виде интерфейсов»"
   ]
  },
  {
   "cell_type": "markdown",
   "metadata": {},
   "source": [
    "Итак, что мы тут видим. Есть некоторая абстракция – «интерфейс модуля». Есть код, который использует модуль – «клиент модуля». И есть реализация интерфейса модуля. Принцип инвертирования зависимостей определяет отношение этих трех сущностей так:\n",
    "- Клиент ничего не должен знать о реализации модуля. Он имеет дело только с интерфейсом.\n",
    "- Реализация модуля ничего не должна знать о клиенте. Она предоставляет функциональность и реализует определенный интерфейс.\n",
    "- Интерфейс не должен зависеть от реализации. Он вообще не должен о ней знать.\n",
    "- Реализация должна зависеть от интерфейса. Это естественно."
   ]
  },
  {
   "cell_type": "markdown",
   "metadata": {},
   "source": [
    "**Практика использования инверсии управления состоит в том, чтобы иметь классы или функции, которые зависят от других классов или функций, но вместо создания экземпляров внутри функционального кода, лучше получить его в качестве параметра, так слабая связь может быть заархивирована. Это имеет много преимуществ, такие как большая тестируемость и возможность замещения принципа замены Лискова.**"
   ]
  },
  {
   "cell_type": "markdown",
   "metadata": {},
   "source": [
    "### как этого можно добиться ?"
   ]
  },
  {
   "cell_type": "markdown",
   "metadata": {},
   "source": [
    "Крайне важно то, как модуль получает ссылки на объекты, которые он использует в своей работе. И тут возможны следующие варианты:\n",
    "\n",
    "- **Модуль сам создает объекты необходимые ему для работы.**\n",
    "\n",
    "Но, как и было сказано, модуль не может это сделать напрямую — для создания необходимо вызвать конструктор конкретного типа, и в результате модуль будет зависеть не от интерфейса, а от конкретной реализации. Решить проблему в данном случае позволяет шаблон Фабричный Метод (Factory Method).\n",
    "\n",
    "\"Суть заключается в том, что вместо непосредственного инстанцирования объекта через new, мы предоставляем классу-клиенту некоторый интерфейс для создания объектов. Поскольку такой интерфейс при правильном дизайне всегда может быть переопределён, мы получаем определённую гибкость при использовании низкоуровневых модулей в модулях высокого уровня\".\n",
    "\n",
    "В случаях, когда нужно создавать группы или семейства взаимосвязанных объектов, вместо Фабричного Метода используется Абстрактная Фабрика (Abstract factory).\n",
    "\n"
   ]
  },
  {
   "cell_type": "code",
   "execution_count": null,
   "metadata": {},
   "outputs": [],
   "source": [
    "## Пример из проекта, фабрики для тестов\n",
    "class PersonForReplisyncFactory(DjangoModelFactory):\n",
    "    class Meta:\n",
    "        model = 'contragent.Person'\n",
    "        django_get_or_create = ('fname', 'iname', 'address')\n",
    "\n",
    "\"\"\"\n",
    "Из документации\n",
    "Цель factory_boy - предоставить способ получения нового экземпляра по умолчанию, \n",
    "при этом все еще имея возможность переопределять некоторые поля для каждого вызова\n",
    "\n",
    "Так же из плюсов, это нет прямого импорта модели\n",
    "\"\"\"\n"
   ]
  },
  {
   "cell_type": "markdown",
   "metadata": {},
   "source": [
    "- **Модуль берет необходимые объекты у того, у кого они уже есть (обычно это некоторый, известный всем репозиторий, в котором уже лежит все, что только может понадобиться для работы программы).**\n",
    "\n",
    "Этот подход реализуется шаблоном Локатор Сервисов (Service Locator), основная идея которого заключается в том, что в программе имеется объект, знающий, как получить все зависимости (сервисы), которые могут потребоваться.\n",
    "\n",
    "Главное отличие от фабрик в том, что Service Locator не создаёт объекты, а фактически уже содержит в себе инстанцированные объекты (или знает где/как их получить, а если и создает, то только один раз при первом обращении). Фабрика при каждом обращении создает новый объект, который вы получаете в полную собственность и можете делать с ним что хотите. Локатор же сервисов выдает ссылки на одни и те же, уже существующие объекты. Поэтому с объектами, выданными Service Locator, нужно быть очень осторожным, так как одновременно с вами ими может пользоваться кто-то еще.\n",
    "\n",
    "Объекты в Service Locator могут быть добавлены напрямую, через конфигурационный файл, да и вообще любым удобным программисту способом. Сам Service Locator может быть статическим классом с набором статических методов, синглетоном или интерфейсом и передаваться требуемым классам через конструктор или метод.\n",
    "\n",
    "Вообще говоря, Service Locator иногда называют антипаттерном и не рекомендуют использовать (главным образом потому, что он создает неявные связности и дает лишь видимость хорошего дизайна). Подробно можно почитать у Марка Симана:\n",
    "Service Locator is an Anti-Pattern\n",
    "Abstract Factory or Service Locator?\n"
   ]
  },
  {
   "cell_type": "markdown",
   "metadata": {},
   "source": [
    "- **Модуль вообще не заботиться о «добывании» зависимостей. Он лишь определяет, что ему нужно для работы, а все необходимые зависимости ему поставляются («впрыскиваются») из вне кем-то другим.**\n",
    "\n",
    "Это так и называется — Внедрение Зависимостей (Dependency Injection). Обычно требуемые зависимости передаются либо в качестве параметров конструктора (Constructor Injection), либо через методы класса (Setter injection).\n",
    "\n",
    "Такой подход инвертирует процесс создания зависимости — вместо самого модуля создание зависимостей контролирует кто-то извне. Модуль из активного элемента, становится пассивным — не он делает, а для него делают. Такое изменение направления действия называется Инверсия Контроля (Inversion of Control), или Принцип Голливуда — «Не звоните нам, мы сами вам позвоним».\n",
    "\n",
    "Это самое гибкое решение, дающее модулям наибольшую автономность. Можно сказать, что только оно в полной мере реализует «Принцип единственной ответственности» — модуль должен быть полностью сфокусирован на том, чтобы хорошо выполнять свою функцию и не заботиться ни о чем другом. Обеспечение его всем необходимым для работы это отдельная задача, которой должен заниматься соответствующий «специалист» (обычно управлением зависимостями и их внедрениями занимается некий контейнер — IoC-контейнер).\n",
    "\n",
    "По сути, здесь все как в жизни: в хорошо организованной компании программисты программируют, а столы, компьютеры и все необходимое им для работы покупает и обеспечивает кладовщик. Или, если использовать метафору программы как конструктора — модуль не должен думать о проводах, сборкой конструктора занимается кто-то другой, а не сами детали."
   ]
  },
  {
   "cell_type": "markdown",
   "metadata": {},
   "source": [
    "**«Инъекция зависимости»** - это понятие за 5 центов на 25 долларов. [...] Внедрение зависимостей означает предоставление объекту его переменных экземпляра."
   ]
  },
  {
   "cell_type": "markdown",
   "metadata": {},
   "source": [
    "Пример инъекции в джанго"
   ]
  },
  {
   "cell_type": "markdown",
   "metadata": {},
   "source": [
    "![dep_injec](attest_image/dep_injection.png)"
   ]
  },
  {
   "cell_type": "markdown",
   "metadata": {},
   "source": [
    "## Инверсия управления (Inversion of Control)"
   ]
  },
  {
   "cell_type": "markdown",
   "metadata": {},
   "source": [
    "Это и есть Inversion of Control — очень абстрактный принцип, постулирующий факт задания потока выполнения некой внешней по отношению к вам сущностью.\n",
    "\n",
    "Понятие IoC тесно связано с понятием фреймворка. Это главная характеристика, отличающая его от другого способа оформления переиспользуемого кода — библиотеки, функции которой вы просто вызываете из своей программы. Фреймворк же — это внешний каркас, предоставляющий заранее определенные точки расширения. В эти точки расширения вы и вставляете свой код, но когда он будет вызван определяет именно фреймворк."
   ]
  },
  {
   "cell_type": "code",
   "execution_count": null,
   "metadata": {},
   "outputs": [],
   "source": [
    "class SomeAction:\n",
    "    def __init__(self):\n",
    "        self.data = Client\n",
    "        \n",
    "\"\"\"\n",
    "Проблема в том, что наш Экшен зависит напрямую от класса данных. Согласно принципу инверсии зависимостей надо \n",
    "между ними воткнуть абстракцию.\n",
    "\"\"\""
   ]
  },
  {
   "cell_type": "markdown",
   "metadata": {},
   "source": [
    "![uml](attest_image/uml.png)"
   ]
  },
  {
   "cell_type": "code",
   "execution_count": null,
   "metadata": {},
   "outputs": [],
   "source": [
    "Пример в нашем проекте это провайдер DjangoModelProvider"
   ]
  },
  {
   "cell_type": "markdown",
   "metadata": {},
   "source": [
    "Еще пример про иньекцию зависимостей\n",
    "https://webdevblog.ru/vnedrenie-zavisimostej-v-python/"
   ]
  },
  {
   "cell_type": "code",
   "execution_count": null,
   "metadata": {},
   "outputs": [],
   "source": [
    "# email_client.py\n",
    "class EmailClient(object):\n",
    "    \n",
    "    def __init__(self, config):\n",
    "        self._config = config\n",
    "        self.connect(self._config)\n",
    "        \n",
    "    def connect(self, config):\n",
    "        # Implement function here\n",
    "        pass"
   ]
  },
  {
   "cell_type": "code",
   "execution_count": null,
   "metadata": {},
   "outputs": [],
   "source": [
    "# email_reader.py\n",
    "class EmailReader(object):\n",
    "    \n",
    "    def __init__(self, client):\n",
    "        try:\n",
    "            self._client = client\n",
    "        except Exception as e:\n",
    "            raise e\n",
    "            \n",
    "    def read(self):\n",
    "        # Implement function here\n",
    "        pass"
   ]
  },
  {
   "cell_type": "code",
   "execution_count": null,
   "metadata": {},
   "outputs": [],
   "source": [
    "# containers.py\n",
    "from dependency_injector import providers, containers\n",
    "from email_client import EmailClient\n",
    "from email_reader import EmailReader\n",
    "class Configs(containers.DeclarativeContainer):\n",
    "    config = providers.Configuration('config')\n",
    "    # other configs\n",
    "    \n",
    "class Clients(containers.DeclarativeContainer):\n",
    "    email_client = providers.Singleton(EmailClient, Configs.config)\n",
    "    # other clients\n",
    "    \n",
    "class Readers(containers.DeclarativeContainer):\n",
    "    email_reader = providers.Factory(EmailReader, client=Clients.email_client)\n",
    "    # other readers"
   ]
  },
  {
   "cell_type": "code",
   "execution_count": null,
   "metadata": {},
   "outputs": [],
   "source": [
    "# main.py\n",
    "from containers import Readers, Clients, Configs\n",
    "if __name__ == \"__main__\":\n",
    "    Configs.config.override({\n",
    "        \"domain_name\": \"imap.gmail.com\",\n",
    "        \"email_address\": \"YOUR_EMAIL_ADDRESS\",\n",
    "        \"password\": \"YOUR_PASSWORD\",\n",
    "        \"mailbox\": \"INBOX\"\n",
    "    })\n",
    "    email_reader = Readers.email_reader()\n",
    "    print email_reader.read()"
   ]
  },
  {
   "cell_type": "markdown",
   "metadata": {},
   "source": [
    "В файле main.py объект config переопределяется данным объектом условной конфигурации. Класс EmailReader был создан без создания экземпляра класса EmailClient в главном файле, исключая накладные расходы на его импорт или создание. об этом заботится файл containers.py."
   ]
  },
  {
   "cell_type": "markdown",
   "metadata": {},
   "source": [
    "## Что такое слабая связность? Какие методы используются для достижения слабой связности в приложении.\n"
   ]
  },
  {
   "cell_type": "markdown",
   "metadata": {},
   "source": [
    "Это самостоятельность отдельных модулей приложение. Независимость отдельныз модулей приложения друг от друга. Принципы SOLID вобщем про это. особенно D инверсия зависимостей. В первую очередь также ИНТЕРФЕЙСЫ (и стоящие за ними Инкапсуляция, Полиморфизм, Наследование)"
   ]
  },
  {
   "cell_type": "markdown",
   "metadata": {},
   "source": [
    "- Модули должны быть друг для друга \"черными ящиками\" (инкапсуляция). Это означает, что один модуль не должен «лезть»  внутрь другого модуля и что либо знать о его внутренней структуре. Объекты одной подсистемы не должны обращаться      напрямую к объектам другой подсистемы  \n",
    "\n",
    "\n",
    "- Модули/подсистемы должны взаимодействовать друг с другом лишь посредством интерфейсов (то есть, абстракций, не  зависящих от деталей реализации) Соответственно каждый модуль должен иметь четко определенный интерфейс или интерфейсы для взаимодействия с другими модулями."
   ]
  },
  {
   "cell_type": "markdown",
   "metadata": {},
   "source": [
    "## Что такое интерфейсы"
   ]
  },
  {
   "cell_type": "markdown",
   "metadata": {},
   "source": [
    "В некоторых языках программирования есть отдельная сущность Интерфейс. Если говорить своими словами, то это определенный набор обязательных методов, для класса. Про класс мы говорим что класс реализует интерфейс если водержит в себе весь набор методов интерфейса (например set, get, delete, build). Это понятие так же связано с полиморфизмом напряму. Т.к. набор объектов поддерживающих интерфейс мы можем как то гибко использовать в коде. \n",
    "\n",
    "Интерфейс, это фактически контракт или регламент взаимодействия.. Это больше теоретическое определение нежели практическое"
   ]
  },
  {
   "cell_type": "markdown",
   "metadata": {},
   "source": [
    "## Чем интерфейс отличается от абстрактного класса?"
   ]
  },
  {
   "cell_type": "markdown",
   "metadata": {},
   "source": [
    "Если говорить про Python то в нем нет сущности Interface. Но его можно вобщем то создать объявив абстрактный класс, в котором создать набор абстрактных методов. Вобщем то абстрактный класс у которого все методы абстрактные на мой взгляд является интерфейсом. Тогда отнаследовавшийся от него Класс, гарантировано будет реализоввывать этот интерфейс. \n",
    "\n",
    "А так это понятия немного разного уровня, понятие интерфейс оно немного выше над понятием абстрактный класс."
   ]
  },
  {
   "cell_type": "markdown",
   "metadata": {},
   "source": [
    "# Паттерны"
   ]
  },
  {
   "cell_type": "markdown",
   "metadata": {},
   "source": [
    "## Какие обобщающие классы паттернов вы можете назвать?"
   ]
  },
  {
   "cell_type": "markdown",
   "metadata": {},
   "source": [
    "- Порождающие паттерны (Фабрики, Строитель)\n",
    "- Структурные паттерны (Адаптер, Мост, Фасад, Декоратор, Proxy)\n",
    "- Поведенческие паттерны (Итератор, Наблюдатель, Посредник, Издатель-Подписчик)"
   ]
  },
  {
   "cell_type": "markdown",
   "metadata": {},
   "source": [
    "## Что такое фабричный метод?"
   ]
  },
  {
   "cell_type": "markdown",
   "metadata": {},
   "source": [
    "Фабричный метод − это шаблон проектирования, используемый для создания общего интерфейса.\n",
    "\n",
    "Например, приложению требуется объект с определенным интерфейсом для выполнения задач. Реализация интерфейса определяется некоторым параметром.\n",
    "\n",
    "Вместо использования сложной структуры из условий if/elif/else для определения реализации, приложение делегирует это решение отдельному компоненту, который создает конкретный объект. При таком подходе код приложения упрощается, становится более удобным для повторного использования и поддержки."
   ]
  },
  {
   "cell_type": "markdown",
   "metadata": {},
   "source": [
    "![factory_method](attest_image/factory.png)"
   ]
  },
  {
   "cell_type": "code",
   "execution_count": 8,
   "metadata": {},
   "outputs": [],
   "source": [
    "#serializer_demo.py\n",
    "\n",
    "import json\n",
    "import xml.etree.ElementTree as et\n",
    "\n",
    "class Song:\n",
    "    def __init__(self, song_id, title, artist):\n",
    "        self.song_id = song_id\n",
    "        self.title = title\n",
    "        self.artist = artist\n",
    "\n",
    "\n",
    "class SongSerializer:\n",
    "    def serialize(self, song, format):\n",
    "        if format == 'JSON':\n",
    "            song_info = {\n",
    "                'id': song.song_id,\n",
    "                'title': song.title,\n",
    "                'artist': song.artist\n",
    "            }\n",
    "            return json.dumps(song_info)\n",
    "        elif format == 'XML':\n",
    "            song_info = et.Element('song', attrib={'id': song.song_id})\n",
    "            title = et.SubElement(song_info, 'title')\n",
    "            title.text = song.title\n",
    "            artist = et.SubElement(song_info, 'artist')\n",
    "            artist.text = song.artist\n",
    "            return et.tostring(song_info, encoding='unicode')\n",
    "        else:\n",
    "            raise ValueError(format)"
   ]
  },
  {
   "cell_type": "code",
   "execution_count": 9,
   "metadata": {},
   "outputs": [],
   "source": [
    "class SongSerializer:\n",
    "    def serialize(self, song, format):\n",
    "        serializer = get_serializer(format)\n",
    "        return serializer(song)\n",
    "\n",
    "\n",
    "def get_serializer(format):\n",
    "    if format == 'JSON':\n",
    "        return _serialize_to_json\n",
    "    elif format == 'XML':\n",
    "        return _serialize_to_xml\n",
    "    else:\n",
    "        raise ValueError(format)\n",
    "\n",
    "\n",
    "def _serialize_to_json(song):\n",
    "    payload = {\n",
    "        'id': song.song_id,\n",
    "        'title': song.title,\n",
    "        'artist': song.artist\n",
    "    }\n",
    "    return json.dumps(payload)\n",
    "\n",
    "\n",
    "def _serialize_to_xml(song):\n",
    "    song_element = et.Element('song', attrib={'id': song.song_id})\n",
    "    title = et.SubElement(song_element, 'title')\n",
    "    title.text = song.title\n",
    "    artist = et.SubElement(song_element, 'artist')\n",
    "    artist.text = song.artist\n",
    "    return et.tostring(song_element, encoding='unicode')"
   ]
  },
  {
   "cell_type": "code",
   "execution_count": null,
   "metadata": {},
   "outputs": [],
   "source": [
    "# Использования фабричного метода \n",
    "import serializer_demo as sd\n",
    "song = sd.Song('1', 'Water of Love', 'Dire Straits')\n",
    "serializer = sd.SongSerializer()\n",
    "\n",
    "serializer.serialize(song, 'JSON')\n",
    "'{\"id\": \"1\", \"title\": \"Water of Love\", \"artist\": \"Dire Straits\"}'\n",
    "\n",
    "serializer.serialize(song, 'XML')\n",
    "'<song id=\"1\"><title>Water of Love</title><artist>Dire Straits</artist></song>'"
   ]
  },
  {
   "cell_type": "markdown",
   "metadata": {},
   "source": [
    "![abbb](attest_image/about_factory_method.png)"
   ]
  },
  {
   "cell_type": "markdown",
   "metadata": {},
   "source": [
    "## Что возвращает абстрактная фабрика?"
   ]
  },
  {
   "cell_type": "markdown",
   "metadata": {},
   "source": [
    "![abstract_factory](attest_image/abstract_factory.png)"
   ]
  },
  {
   "cell_type": "markdown",
   "metadata": {},
   "source": [
    "Возвращает объект (продукт), сама фабрика является интерфейсом по сути, от которого наследуются уже конкретные фабрики"
   ]
  },
  {
   "cell_type": "code",
   "execution_count": null,
   "metadata": {},
   "outputs": [],
   "source": [
    "class AbstractFactory(ABC):\n",
    "    \"\"\"\n",
    "    Интерфейс Абстрактной Фабрики объявляет набор методов, которые возвращают\n",
    "    различные абстрактные продукты. Эти продукты называются семейством и связаны\n",
    "    темой или концепцией высокого уровня. Продукты одного семейства обычно могут\n",
    "    взаимодействовать между собой. Семейство продуктов может иметь несколько\n",
    "    вариаций, но продукты одной вариации несовместимы с продуктами другой.\n",
    "    \"\"\"\n",
    "    @abstractmethod\n",
    "    def create_product_a(self) -> AbstractProductA:\n",
    "        pass\n",
    "\n",
    "    @abstractmethod\n",
    "    def create_product_b(self) -> AbstractProductB:\n",
    "        pass\n",
    "\n",
    "\n",
    "class ConcreteFactory1(AbstractFactory):\n",
    "    \"\"\"\n",
    "    Конкретная Фабрика производит семейство продуктов одной вариации. Фабрика\n",
    "    гарантирует совместимость полученных продуктов. Обратите внимание, что\n",
    "    сигнатуры методов Конкретной Фабрики возвращают абстрактный продукт, в то\n",
    "    время как внутри метода создается экземпляр конкретного продукта.\n",
    "    \"\"\"\n",
    "\n",
    "    def create_product_a(self) -> ConcreteProductA1:\n",
    "        return ConcreteProductA1()\n",
    "\n",
    "    def create_product_b(self) -> ConcreteProductB1:\n",
    "        return ConcreteProductB1()"
   ]
  },
  {
   "cell_type": "code",
   "execution_count": null,
   "metadata": {},
   "outputs": [],
   "source": [
    "def client_code(factory: AbstractFactory) -> None:\n",
    "    \"\"\"\n",
    "    Клиентский код работает с фабриками и продуктами только через абстрактные\n",
    "    типы: Абстрактная Фабрика и Абстрактный Продукт. Это позволяет передавать\n",
    "    любой подкласс фабрики или продукта клиентскому коду, не нарушая его.\n",
    "    \"\"\"\n",
    "    product_a = factory.create_product_a()\n",
    "    product_b = factory.create_product_b()\n",
    "\n",
    "    print(f\"{product_b.useful_function_b()}\")\n",
    "    print(f\"{product_b.another_useful_function_b(product_a)}\", end=\"\")\n",
    "\n",
    "\n",
    "if __name__ == \"__main__\":\n",
    "    \"\"\"\n",
    "    Клиентский код может работать с любым конкретным классом фабрики.\n",
    "    \"\"\"\n",
    "    print(\"Client: Testing client code with the first factory type:\")\n",
    "    client_code(ConcreteFactory1())\n",
    "\n",
    "    print(\"\\n\")\n",
    "\n",
    "    print(\"Client: Testing the same client code with the second factory type:\")\n",
    "    client_code(ConcreteFactory2())"
   ]
  },
  {
   "cell_type": "markdown",
   "metadata": {},
   "source": [
    "![+-factory](attest_image/about_abstract_factory.png)"
   ]
  },
  {
   "cell_type": "markdown",
   "metadata": {},
   "source": [
    "## Чем шаблон Наблюдатель отличается от шаблона Издатель-Подписчик?"
   ]
  },
  {
   "cell_type": "markdown",
   "metadata": {},
   "source": [
    "Наблюдатель передаёт запрос одновременно всем заинтересованным получателям, но позволяет им динамически подписываться или отписываться от таких оповещений."
   ]
  },
  {
   "cell_type": "markdown",
   "metadata": {},
   "source": [
    "![observer](attest_image/observer.png)"
   ]
  },
  {
   "cell_type": "markdown",
   "metadata": {},
   "source": [
    "**Наблюдатель** — это поведенческий паттерн проектирования, который создаёт механизм подписки, позволяющий одним объектам следить и реагировать на события, происходящие в других объектах.\n",
    "\n"
   ]
  },
  {
   "cell_type": "markdown",
   "metadata": {},
   "source": [
    "Webhook, websocket"
   ]
  },
  {
   "cell_type": "markdown",
   "metadata": {},
   "source": [
    "![obser](attest_image/obser_plus.png)"
   ]
  },
  {
   "cell_type": "code",
   "execution_count": null,
   "metadata": {},
   "outputs": [],
   "source": [
    "class Subject(ABC):\n",
    "    \"\"\"\n",
    "    Интферфейс издателя объявляет набор методов для управлениями подпискичами.\n",
    "    \"\"\"\n",
    "\n",
    "    @abstractmethod\n",
    "    def attach(self, observer: Observer) -> None:\n",
    "        \"\"\"\n",
    "        Присоединяет наблюдателя к издателю.\n",
    "        \"\"\"\n",
    "        pass\n",
    "\n",
    "    @abstractmethod\n",
    "    def detach(self, observer: Observer) -> None:\n",
    "        \"\"\"\n",
    "        Отсоединяет наблюдателя от издателя.\n",
    "        \"\"\"\n",
    "        pass\n",
    "\n",
    "    @abstractmethod\n",
    "    def notify(self) -> None:\n",
    "        \"\"\"\n",
    "        Уведомляет всех наблюдателей о событии.\n",
    "        \"\"\"\n",
    "        pass\n",
    "\n",
    "\n",
    "class ConcreteSubject(Subject):\n",
    "    \"\"\"\n",
    "    Издатель владеет некоторым важным состоянием и оповещает наблюдателей о его\n",
    "    изменениях.\n",
    "    \"\"\"\n",
    "\n",
    "    _state: int = None\n",
    "    \"\"\"\n",
    "    Для удобства в этой переменной хранится состояние Издателя, необходимое всем\n",
    "    подписчикам.\n",
    "    \"\"\"\n",
    "\n",
    "    _observers: List[Observer] = []\n",
    "    \"\"\"\n",
    "    Список подписчиков. В реальной жизни список подписчиков может храниться в\n",
    "    более подробном виде (классифицируется по типу события и т.д.)\n",
    "    \"\"\"\n",
    "\n",
    "    def attach(self, observer: Observer) -> None:\n",
    "        print(\"Subject: Attached an observer.\")\n",
    "        self._observers.append(observer)\n",
    "\n",
    "    def detach(self, observer: Observer) -> None:\n",
    "        self._observers.remove(observer)\n",
    "\n",
    "    \"\"\"\n",
    "    Методы управления подпиской.\n",
    "    \"\"\"\n",
    "\n",
    "    def notify(self) -> None:\n",
    "        \"\"\"\n",
    "        Запуск обновления в каждом подписчике.\n",
    "        \"\"\"\n",
    "\n",
    "        print(\"Subject: Notifying observers...\")\n",
    "        for observer in self._observers:\n",
    "            observer.update(self)\n",
    "\n",
    "    def some_business_logic(self) -> None:\n",
    "        \"\"\"\n",
    "        Обычно логика подписки – только часть того, что делает Издатель.\n",
    "        Издатели часто содержат некоторую важную бизнес-логику, которая\n",
    "        запускает метод уведомления всякий раз, когда должно произойти что-то\n",
    "        важное (или после этого).\n",
    "        \"\"\"\n",
    "\n",
    "        print(\"\\nSubject: I'm doing something important.\")\n",
    "        self._state = randrange(0, 10)\n",
    "\n",
    "        print(f\"Subject: My state has just changed to: {self._state}\")\n",
    "        self.notify()\n",
    "\n",
    "\n",
    "class Observer(ABC):\n",
    "    \"\"\"\n",
    "    Интерфейс Наблюдателя объявляет метод уведомления, который издатели\n",
    "    используют для оповещения своих подписчиков.\n",
    "    \"\"\"\n",
    "\n",
    "    @abstractmethod\n",
    "    def update(self, subject: Subject) -> None:\n",
    "        \"\"\"\n",
    "        Получить обновление от субъекта.\n",
    "        \"\"\"\n",
    "        pass\n",
    "\n",
    "\n",
    "\"\"\"\n",
    "Конкретные Наблюдатели реагируют на обновления, выпущенные Издателем, к которому\n",
    "они прикреплены.\n",
    "\"\"\"\n",
    "\n",
    "\n",
    "class ConcreteObserverA(Observer):\n",
    "    def update(self, subject: Subject) -> None:\n",
    "        if subject._state < 3:\n",
    "            print(\"ConcreteObserverA: Reacted to the event\")\n",
    "\n",
    "\n",
    "class ConcreteObserverB(Observer):\n",
    "    def update(self, subject: Subject) -> None:\n",
    "        if subject._state == 0 or subject._state >= 2:\n",
    "            print(\"ConcreteObserverB: Reacted to the event\")\n",
    "\n",
    "\n",
    "if __name__ == \"__main__\":\n",
    "    # Клиентский код.\n",
    "\n",
    "    subject = ConcreteSubject()\n",
    "\n",
    "    observer_a = ConcreteObserverA()\n",
    "    subject.attach(observer_a)\n",
    "\n",
    "    observer_b = ConcreteObserverB()\n",
    "    subject.attach(observer_b)\n",
    "\n",
    "    subject.some_business_logic()\n",
    "    subject.some_business_logic()\n",
    "\n",
    "    subject.detach(observer_a)\n",
    "\n",
    "    subject.some_business_logic()"
   ]
  },
  {
   "cell_type": "markdown",
   "metadata": {},
   "source": [
    "Распространенным вариантом использования этой функции, которую предоставляет django (сигналы Django), являются уведомления (пример: допустим, у вас есть блог, и вам нужно получать уведомления каждый раз, когда есть комментарий, или уведомлять пользователей каждый раз, когда добавляется новое сообщение, или обновлено)"
   ]
  },
  {
   "cell_type": "markdown",
   "metadata": {},
   "source": [
    "## Паттерн издатель-подписчик (publish - subscriber)"
   ]
  },
  {
   "cell_type": "markdown",
   "metadata": {},
   "source": [
    "В Патерне издатель-подписчик, уже появляется некий промежуточный провайдер (шина/очередь для рассылки сообщений).  Если в Наблюдателе, конкретный подписчик подписывется на конкретного издателя, который генерит события. Издатель рассылает сообщения своим подписчикам. В издатель-подписчик, рассылка уведомлений происходит по всем издателями и подписчиками сразу, воответствнно количество издатеелей может менятся динамически.."
   ]
  },
  {
   "cell_type": "markdown",
   "metadata": {},
   "source": [
    "Это означает, что издатель и подписчик не знают о существовании друг друга. Существует третий компонент, называемый посредником, посредником сообщений или шиной событий, который известен как издателю, так и подписчику, который фильтрует все входящие сообщения и распределяет их соответствующим образом. Другими словами, pub-sub - это шаблон, используемый для обмена сообщениями между различными компонентами системы, когда эти компоненты ничего не знают об идентичности друг друга. Фильтрация сообщений уже лежит на брокере и может быть по Топиками например (Nuts).  "
   ]
  },
  {
   "cell_type": "code",
   "execution_count": null,
   "metadata": {},
   "outputs": [],
   "source": [
    "class Provider:\n",
    "    def __init__(self):\n",
    "        self.msg_queue = []\n",
    "        self.subscribers = {}\n",
    "\n",
    "    def notify(self, msg):\n",
    "        self.msg_queue.append(msg)\n",
    "\n",
    "    def subscribe(self, msg, subscriber):\n",
    "        self.subscribers.setdefault(msg, []).append(subscriber)\n",
    "\n",
    "    def unsubscribe(self, msg, subscriber):\n",
    "        self.subscribers[msg].remove(subscriber)\n",
    "\n",
    "    def update(self):\n",
    "        for msg in self.msg_queue:\n",
    "            for sub in self.subscribers.get(msg, []):\n",
    "                sub.run(msg)\n",
    "        self.msg_queue = []\n",
    "\n",
    "\n",
    "class Publisher:\n",
    "    def __init__(self, msg_center):\n",
    "        self.provider = msg_center\n",
    "\n",
    "    def publish(self, msg):\n",
    "        self.provider.notify(msg)\n",
    "\n",
    "\n",
    "class Subscriber:\n",
    "    def __init__(self, name, msg_center):\n",
    "        self.name = name\n",
    "        self.provider = msg_center\n",
    "\n",
    "    def subscribe(self, msg):\n",
    "        self.provider.subscribe(msg, self)\n",
    "\n",
    "    def unsubscribe(self, msg):\n",
    "        self.provider.unsubscribe(msg, self)\n",
    "\n",
    "    def run(self, msg):\n",
    "        print(\"{} got {}\".format(self.name, msg))\n",
    "\n",
    "\n",
    "def main():\n",
    "    \"\"\"\n",
    "    >>> message_center = Provider()\n",
    "    >>> fftv = Publisher(message_center)\n",
    "    >>> jim = Subscriber(\"jim\", message_center)\n",
    "    >>> jim.subscribe(\"cartoon\")\n",
    "    >>> jack = Subscriber(\"jack\", message_center)\n",
    "    >>> jack.subscribe(\"music\")\n",
    "    >>> gee = Subscriber(\"gee\", message_center)\n",
    "    >>> gee.subscribe(\"movie\")\n",
    "    >>> vani = Subscriber(\"vani\", message_center)\n",
    "    >>> vani.subscribe(\"movie\")\n",
    "    >>> vani.unsubscribe(\"movie\")\n",
    "    # Note that no one subscirbed to `ads`\n",
    "    # and that vani changed their mind\n",
    "    >>> fftv.publish(\"cartoon\")\n",
    "    >>> fftv.publish(\"music\")\n",
    "    >>> fftv.publish(\"ads\")\n",
    "    >>> fftv.publish(\"movie\")\n",
    "    >>> fftv.publish(\"cartoon\")\n",
    "    >>> fftv.publish(\"cartoon\")\n",
    "    >>> fftv.publish(\"movie\")\n",
    "    >>> fftv.publish(\"blank\")\n",
    "    >>> message_center.update()\n",
    "    jim got cartoon\n",
    "    jack got music\n",
    "    gee got movie"
   ]
  },
  {
   "cell_type": "markdown",
   "metadata": {},
   "source": [
    "![ob_im](attest_image/obser_img.png)"
   ]
  },
  {
   "cell_type": "markdown",
   "metadata": {},
   "source": [
    "![pub_s](attest_image/pub_sub_im.png)"
   ]
  },
  {
   "cell_type": "markdown",
   "metadata": {},
   "source": [
    "![ob_im](attest_image/diff.png)"
   ]
  },
  {
   "cell_type": "markdown",
   "metadata": {},
   "source": [
    "Celery это просто Task manager, это не про pub_sub, хот я в связке с Redis , вроде как можно использовать, с дополнительными библиотеками.."
   ]
  },
  {
   "cell_type": "markdown",
   "metadata": {},
   "source": [
    "# Какие паттерны применяются для организации доступа к данным?"
   ]
  },
  {
   "cell_type": "code",
   "execution_count": null,
   "metadata": {},
   "outputs": [],
   "source": []
  }
 ],
 "metadata": {
  "kernelspec": {
   "display_name": "Python 3",
   "language": "python",
   "name": "python3"
  },
  "language_info": {
   "codemirror_mode": {
    "name": "ipython",
    "version": 3
   },
   "file_extension": ".py",
   "mimetype": "text/x-python",
   "name": "python",
   "nbconvert_exporter": "python",
   "pygments_lexer": "ipython3",
   "version": "3.7.5"
  }
 },
 "nbformat": 4,
 "nbformat_minor": 1
}
