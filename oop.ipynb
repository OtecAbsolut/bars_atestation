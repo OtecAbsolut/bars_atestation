{
 "cells": [
  {
   "cell_type": "markdown",
   "metadata": {
    "collapsed": true
   },
   "source": [
    "# Что такое ООП"
   ]
  },
  {
   "cell_type": "markdown",
   "metadata": {},
   "source": [
    "Представление программы в форме\n",
    "взаимодействующих объектов"
   ]
  },
  {
   "cell_type": "markdown",
   "metadata": {},
   "source": [
    "Основные механизмы управления/абстракции:\n",
    "* Объект\n",
    "* Класс\n",
    "* Иерархии классов/объектов\n",
    "* Полиморфизм\n",
    "\n",
    "Элементарные единицы модульности:\n",
    "* Класс (примечание: в наиболее распространенной\n",
    "интерпретации)\n",
    "\n",
    "Объект характеризуется:\n",
    "* поведением;\n",
    "* состоянием;\n",
    "* уникальностью (identity);"
   ]
  },
  {
   "cell_type": "markdown",
   "metadata": {},
   "source": [
    "# Чем ООП отличается от других парадигм программирования"
   ]
  },
  {
   "cell_type": "markdown",
   "metadata": {},
   "source": [
    "## Функциональноe программирование"
   ]
  },
  {
   "cell_type": "markdown",
   "metadata": {},
   "source": [
    "https://habr.com/ru/post/142351/"
   ]
  },
  {
   "cell_type": "markdown",
   "metadata": {},
   "source": [
    "Представление программы в форме набора чистых\n",
    "функций, порождающих результаты на основе входных\n",
    "данных"
   ]
  },
  {
   "cell_type": "markdown",
   "metadata": {},
   "source": [
    "Основные механизмы управления/абстракции:\n",
    "* Чистая функция, как объект первого класса\n",
    "* Вызов функции (в т.ч. рекурсивный)\n",
    "* Лексический контекст, замыкание\n",
    "\n",
    "Элементарные единицы модульности:\n",
    "* Функция (в т.ч. высшего порядка, обобщенная и т.д.)"
   ]
  },
  {
   "cell_type": "markdown",
   "metadata": {},
   "source": [
    "Настоящее ООП нацелено на разделение обязанностей и сокрытие информации. Т.е. выделение сущностей из задачи, создание АПИ у каждой из сущности, для взаимодействия сущностей между собой по АПИ. \n",
    "\n"
   ]
  },
  {
   "cell_type": "markdown",
   "metadata": {},
   "source": [
    "ФП тоже о разделении обязанностей и тоже призвано структурировать лапшекод, но немного по-другому. Это так:"
   ]
  },
  {
   "cell_type": "markdown",
   "metadata": {},
   "source": [
    "данные → функция1 → данные → функция2 → данные → функция3 → результат\n"
   ]
  },
  {
   "cell_type": "markdown",
   "metadata": {},
   "source": [
    "Подходит например для задачки о прасинге данных из соцсетей. Где есть люди, есть группы, сообщества, города, пол. И куча других параметров.\n",
    "И нам например надо получить людей в возрасте от 20-30 из города Киров, интересующихся автомобилями. Фильтры могут менятся местами и комбинироваться по разному.  \n",
    "Здесь вместо объектов, объединяющих данные с поведением, всё разнесено раздельно на сами данные и на их обработчики. Каждый обработчик представляет из себя функцию, принимающую исходные данные и возвращающую результат."
   ]
  },
  {
   "cell_type": "markdown",
   "metadata": {},
   "source": [
    "Например, нам нужно к товарам в корзине начислить скидку на один экземпляр каждого, которого заказали больше трёх. Вместо возни с циклами, методами и прочим низкоуровневым мусором мы просто определяем, какие фильтры и преобразователи нам нужны"
   ]
  },
  {
   "cell_type": "markdown",
   "metadata": {},
   "source": [
    "У меня функциональный подход ассоциируется с таким:\n",
    "const f = (x = 5) => y => x + y(3);\n",
    "\n",
    "И еще это лямбда-исчесления f(x(y()))(), много скобочек LISP\n",
    "И наркоманские задачки про числа черча..\n",
    "\n",
    "Замыкание, карирование, спреды, Частичное применение"
   ]
  },
  {
   "cell_type": "markdown",
   "metadata": {},
   "source": [
    "Функциональное программирование — это практическая реализация идей Алонзо Чёрча. Не все идеи Лямбда-исчисления переросли в практическую сферу, так как лямбда-исчисления не учитывали физических ограничений. Тем не менее, как и ОО программирование, функциональное программирование — это набор идей, а не набор четких указаний. Существует много функциональных языков, и большинство из них делают одни схожие вещи по разному. В данной статье я объясню наиболее широко используемые идеи из функциональных языков используя примеры на Java (да, вы можете писать функциональные программы на Java если у вас есть склонности к мазохизму). В следующих нескольких разделах мы возьмём язык Java и внесём в него изменения, чтобы он превратился в пригодный к использованию функциональный язык. Начнём наше путешествие."
   ]
  },
  {
   "cell_type": "markdown",
   "metadata": {},
   "source": [
    "## Инкапсуляция, полиморфизм, наследование"
   ]
  },
  {
   "cell_type": "markdown",
   "metadata": {},
   "source": [
    "**Инкапсуляция** - сокрытие внутренний реализации.\n",
    "В python-е есть свои особенности"
   ]
  },
  {
   "cell_type": "markdown",
   "metadata": {},
   "source": [
    "Модули должны быть друг для друга \"черными ящиками\" (инкапсуляция). Это означает, что один модуль не должен «лезть» внутрь другого модуля и что либо знать о его внутренней структуре. Объекты одной подсистемы не должны обращаться напрямую к объектам другой подсистемы"
   ]
  },
  {
   "cell_type": "code",
   "execution_count": 9,
   "metadata": {},
   "outputs": [
    {
     "name": "stdout",
     "output_type": "stream",
     "text": [
      "Bob\n",
      "__dict__ {'name': 'Bob'}\n",
      "dir ['_Man__very_private_method', '__class__', '__delattr__', '__dict__', '__dir__', '__doc__', '__eq__', '__format__', '__ge__', '__getattribute__', '__gt__', '__hash__', '__init__', '__init_subclass__', '__le__', '__lt__', '__module__', '__ne__', '__new__', '__reduce__', '__reduce_ex__', '__repr__', '__setattr__', '__sizeof__', '__str__', '__subclasshook__', '__weakref__', '_private_method', 'name']\n",
      "Bob, hello!\n"
     ]
    },
    {
     "ename": "AttributeError",
     "evalue": "'Man' object has no attribute '__very_private_method'",
     "output_type": "error",
     "traceback": [
      "\u001b[0;31m---------------------------------------------------------------------------\u001b[0m",
      "\u001b[0;31mAttributeError\u001b[0m                            Traceback (most recent call last)",
      "\u001b[0;32m<ipython-input-9-1b76eccfdcd2>\u001b[0m in \u001b[0;36m<module>\u001b[0;34m\u001b[0m\n\u001b[1;32m     12\u001b[0m \u001b[0mprint\u001b[0m\u001b[0;34m(\u001b[0m\u001b[0;34m'dir'\u001b[0m\u001b[0;34m,\u001b[0m \u001b[0mdir\u001b[0m\u001b[0;34m(\u001b[0m\u001b[0mbob\u001b[0m\u001b[0;34m)\u001b[0m\u001b[0;34m)\u001b[0m\u001b[0;34m\u001b[0m\u001b[0;34m\u001b[0m\u001b[0m\n\u001b[1;32m     13\u001b[0m \u001b[0mprint\u001b[0m\u001b[0;34m(\u001b[0m\u001b[0mbob\u001b[0m\u001b[0;34m.\u001b[0m\u001b[0m_Man__very_private_method\u001b[0m\u001b[0;34m(\u001b[0m\u001b[0;34m)\u001b[0m\u001b[0;34m)\u001b[0m\u001b[0;34m\u001b[0m\u001b[0;34m\u001b[0m\u001b[0m\n\u001b[0;32m---> 14\u001b[0;31m \u001b[0mprint\u001b[0m\u001b[0;34m(\u001b[0m\u001b[0mbob\u001b[0m\u001b[0;34m.\u001b[0m\u001b[0m__very_private_method\u001b[0m\u001b[0;34m(\u001b[0m\u001b[0;34m)\u001b[0m\u001b[0;34m)\u001b[0m\u001b[0;34m\u001b[0m\u001b[0;34m\u001b[0m\u001b[0m\n\u001b[0m",
      "\u001b[0;31mAttributeError\u001b[0m: 'Man' object has no attribute '__very_private_method'"
     ]
    }
   ],
   "source": [
    "class Man:\n",
    "    \n",
    "    def __init__(self, name):\n",
    "        self.name = name\n",
    "        \n",
    "    def _private_method(self):\n",
    "        return self.name\n",
    "    \n",
    "    def __very_private_method(self):\n",
    "        return self.name + ', hello!'\n",
    "    \n",
    "bob = Man('Bob')\n",
    "print(bob._private_method())\n",
    "print('__dict__', bob.__dict__)\n",
    "print('dir', dir(bob))\n",
    "print(bob._Man__very_private_method())\n",
    "print(bob.__very_private_method())\n"
   ]
  },
  {
   "cell_type": "markdown",
   "metadata": {},
   "source": [
    "**Наследование**"
   ]
  },
  {
   "cell_type": "code",
   "execution_count": 11,
   "metadata": {},
   "outputs": [
    {
     "name": "stdout",
     "output_type": "stream",
     "text": [
      "Anna\n"
     ]
    }
   ],
   "source": [
    "class Woman(Man):\n",
    "    pass\n",
    "\n",
    "anna = Woman('Anna')\n",
    "print(anna._private_method())"
   ]
  },
  {
   "cell_type": "markdown",
   "metadata": {},
   "source": [
    "**Полиморфизм**"
   ]
  },
  {
   "cell_type": "markdown",
   "metadata": {},
   "source": [
    "Один и тот же код используется для объектов разных классов. Т.е. если класс если мы уверены, что у всех объъектов есть определенный набор методов, то вызываем их не задумываясь о том какой у нас объект"
   ]
  },
  {
   "cell_type": "code",
   "execution_count": 13,
   "metadata": {},
   "outputs": [
    {
     "name": "stdout",
     "output_type": "stream",
     "text": [
      "Woof\n",
      "may\n"
     ]
    }
   ],
   "source": [
    "class Cat:\n",
    "    def say(self):\n",
    "        return 'may'\n",
    "    \n",
    "class Dog:\n",
    "    def say(self):\n",
    "        return 'Woof'\n",
    "    \n",
    "d = Dog()\n",
    "c = Cat()\n",
    "for animal in [d, c]:\n",
    "    print(animal.say())"
   ]
  },
  {
   "cell_type": "markdown",
   "metadata": {},
   "source": [
    "**Конструкторы, деструкторы**"
   ]
  },
  {
   "cell_type": "markdown",
   "metadata": {},
   "source": [
    "в питоне это методы \n",
    "__init__()- конструктор\n",
    "\n",
    "__del__ – деструктор . Он вызывается, когда объект собирает мусор, который происходит после удаления всех ссылок на объект. Поэтому это может и не произойти при непосредственном вызове **del**."
   ]
  },
  {
   "cell_type": "code",
   "execution_count": 18,
   "metadata": {},
   "outputs": [
    {
     "name": "stdout",
     "output_type": "stream",
     "text": [
      "Тут создается объект\n",
      "Тут объект удаляется\n"
     ]
    }
   ],
   "source": [
    "class SomeClass:\n",
    "    def __init__(self):\n",
    "        print('Тут создается объект')\n",
    "    def __del__(self, *args, **kwargs):\n",
    "        print('Тут объект удаляется')\n",
    "    \n",
    "obj = SomeClass()\n",
    "del obj"
   ]
  },
  {
   "cell_type": "markdown",
   "metadata": {},
   "source": [
    "# SOLID"
   ]
  },
  {
   "cell_type": "markdown",
   "metadata": {},
   "source": [
    "- S: Single Responsibility Principle (Принцип единственной ответственности).\n",
    "- O: Open-Closed Principle (Принцип открытости-закрытости).\n",
    "- L: Liskov Substitution Principle (Принцип подстановки Барбары Лисков).\n",
    "- I: Interface Segregation Principle (Принцип разделения интерфейса).\n",
    "- D: Dependency Inversion Principle (Принцип инверсии зависимостей)."
   ]
  },
  {
   "cell_type": "markdown",
   "metadata": {},
   "source": [
    "## S: Single Responsibility Principle (Принцип единственной ответственности)"
   ]
  },
  {
   "cell_type": "markdown",
   "metadata": {},
   "source": [
    "Класс должен быть ответственен лишь за что-то одно. Если класс отвечает за решение нескольких задач, его подсистемы, реализующие решение этих задач, оказываются связанными друг с другом. Изменения в одной такой подсистеме ведут к изменениям в другой.\n",
    "Обратите внимание на то, что этот принцип применим не только к классам, но и к компонентам программного обеспечения в более широком смысле."
   ]
  },
  {
   "cell_type": "code",
   "execution_count": 20,
   "metadata": {},
   "outputs": [],
   "source": [
    "class Animal:\n",
    "    \n",
    "    def __init__(self, name):\n",
    "        self.name = name\n",
    "        \n",
    "    def get_name():\n",
    "        return self.name\n",
    "    \n",
    "    def save_in_db(self):\n",
    "        pass"
   ]
  },
  {
   "cell_type": "markdown",
   "metadata": {},
   "source": [
    "Пример нарушения этого принципа, т.к. Сам класс по мимо описания животного еще и сохранением данных в БД занимается..  Исправим это."
   ]
  },
  {
   "cell_type": "code",
   "execution_count": 2,
   "metadata": {},
   "outputs": [],
   "source": [
    "class Animal:\n",
    "    \n",
    "    def __init__(self, name):\n",
    "        self.name = name\n",
    "        \n",
    "    def get_name():\n",
    "        return self.name\n",
    "    \n",
    "class AnimalDB:\n",
    "    \n",
    "    def get_animal(self):\n",
    "        # ищет объект в базе данных и возвращает его\n",
    "        return Animal()\n",
    "    \n",
    "    def save_animal(self, animal):\n",
    "        pass"
   ]
  },
  {
   "cell_type": "markdown",
   "metadata": {},
   "source": [
    "## O: Open-Closed Principle (Принцип открытости-закрытости)"
   ]
  },
  {
   "cell_type": "markdown",
   "metadata": {},
   "source": [
    "Программные сущности (классы, модули, функции) должны быть открыты для расширения, но не для модификации."
   ]
  },
  {
   "cell_type": "markdown",
   "metadata": {},
   "source": [
    "Иными словами: Должна быть возможность расширить/изменить поведение системы без изменения/переписывания уже существующих частей системы."
   ]
  },
  {
   "cell_type": "markdown",
   "metadata": {},
   "source": [
    "Это означает, что приложение следует проектировать так, чтобы изменение его поведения и добавление новой функциональности достигалось бы за счет написания нового кода (расширения), и при этом не приходилось бы менять уже существующий код. В таком случае появление новых требований не повлечет за собой модификацию существующей логики, а сможет быть реализовано прежде всего за счет ее расширения. Именно этот принцип является основой «плагинной архитектуры»"
   ]
  },
  {
   "cell_type": "code",
   "execution_count": 4,
   "metadata": {},
   "outputs": [
    {
     "name": "stdout",
     "output_type": "stream",
     "text": [
      "roar\n",
      "wuuuu\n"
     ]
    }
   ],
   "source": [
    "animals = [Animal('lion'), Animal('wolf')]\n",
    "\n",
    "def animal_sounds(animals):\n",
    "    for animal in animals:\n",
    "        if animal.name == 'lion':\n",
    "            print('roar')\n",
    "        if animal.name == 'wolf':\n",
    "            print('wuuuu')\n",
    "            \n",
    "animal_sounds(animals)"
   ]
  },
  {
   "cell_type": "markdown",
   "metadata": {},
   "source": [
    "Функция **animal_sounds** не соответствует принципу открытости-закрытости, так как, например, при появлении новых видов животных, нам, для того, чтобы с её помощью можно было бы узнавать звуки, издаваемые ими, придётся её изменить."
   ]
  },
  {
   "cell_type": "code",
   "execution_count": 5,
   "metadata": {},
   "outputs": [
    {
     "name": "stdout",
     "output_type": "stream",
     "text": [
      "roar\n",
      "wuuuu\n"
     ]
    }
   ],
   "source": [
    "class Animal:\n",
    "    def make_sound(self):\n",
    "        pass\n",
    "\n",
    "class Lion(Animal):\n",
    "    def make_sound(self):\n",
    "        print('roar')\n",
    "\n",
    "class Wolf(Animal):\n",
    "    def make_sound(self):\n",
    "        print('wuuuu')\n",
    "\n",
    "def animal_sounds(animals):\n",
    "    for animal in animals:\n",
    "        animal.make_sound()\n",
    "\n",
    "animal_sounds((Lion(), Wolf()))"
   ]
  },
  {
   "cell_type": "markdown",
   "metadata": {},
   "source": [
    "## L:  (Принцип подстановки)."
   ]
  },
  {
   "cell_type": "markdown",
   "metadata": {},
   "source": [
    "Цель этого принципа заключаются в том, чтобы классы-наследники могли бы использоваться вместо родительских классов, от которых они образованы, не нарушая работу программы. Если оказывается, что в коде проверяется тип класса, значит принцип подстановки нарушается."
   ]
  },
  {
   "cell_type": "markdown",
   "metadata": {},
   "source": [
    "## I: Interface Segregation Principle (Принцип разделения интерфейса)"
   ]
  },
  {
   "cell_type": "markdown",
   "metadata": {},
   "source": [
    "Интерфейсы позволяют строить систему более высокого уровня, рассматривая каждую подсистему как единое целое и игнорируя ее внутреннее устройство. Они дают возможность модулям взаимодействовать и при этом ничего не знать о внутренней структуре друг друга, тем самым в полной мере реализуя принцип минимального знания, являющейся основой слабой связанности. Причем, чем в более общей/абстрактной форме определены интерфейсы и чем меньше ограничений они накладывают на взаимодействие, тем гибче система. Отсюда фактически следует еще один из принципов SOLID — Принцип разделения интерфейса (Interface Segregation Principle), который выступает против «толстых интерфейсов» и говорит, что большие, объемные интерфейсы надо разбивать на более маленькие и специфические, чтобы клиенты маленьких интерфейсов (зависящие модули) знали только о методах, которые необходимы им в работе. Формулируется он следующим образом: \"Клиенты не должны зависеть от методов (знать о методах), которые они не используют\" или “Много специализированных интерфейсов лучше, чем один универсальный”."
   ]
  },
  {
   "cell_type": "code",
   "execution_count": null,
   "metadata": {},
   "outputs": [],
   "source": [
    "# НЕ ПРАВИЛЬНО\n",
    "class InterFaseShape:\n",
    "    def draw_circle(self):\n",
    "        pass\n",
    "    def draw_square(self):\n",
    "        pass\n",
    "    \n",
    "class Circle(InterFaseShape):\n",
    "    def draw_circle(self):\n",
    "        return 'circle'\n",
    "    def draw_square(self):\n",
    "        return 'square'"
   ]
  },
  {
   "cell_type": "code",
   "execution_count": null,
   "metadata": {},
   "outputs": [],
   "source": [
    "# ПРАВИЛЬНО\n",
    "class InterFaseCircle:\n",
    "    def draw_circle(self):\n",
    "        pass\n",
    "\n",
    "class InterFaseSquare:\n",
    "    def draw_square(self):\n",
    "        pass\n",
    "\n",
    "class Circle(InterFaseCircle):\n",
    "    def draw_circle(self):\n",
    "        return 'circle'\n",
    "    \n",
    "class Square(InterFaseSquare):\n",
    "    def draw_square(self):\n",
    "        return 'square'"
   ]
  },
  {
   "cell_type": "markdown",
   "metadata": {},
   "source": [
    "## D: Dependency Inversion Principle (Принцип инверсии зависимостей)."
   ]
  },
  {
   "cell_type": "markdown",
   "metadata": {},
   "source": [
    "**зависимость (dependency)** — изменение в одной сущности (независимой) может влиять на состояние или поведение другой сущности (зависимой). Со стороны стрелки указывается независимая сущность."
   ]
  },
  {
   "cell_type": "markdown",
   "metadata": {},
   "source": [
    "http://www.skipy.ru/architecture/module_design.html#principles"
   ]
  },
  {
   "cell_type": "markdown",
   "metadata": {},
   "source": [
    "Объектом зависимости должна быть абстракция, а не что-то конкретное.\n",
    "- Модули верхних уровней не должны зависеть от модулей нижних уровней. Оба типа модулей должны зависеть от абстракций.\n",
    "- Абстракции не должны зависеть от деталей. Детали должны зависеть от абстракций."
   ]
  },
  {
   "cell_type": "markdown",
   "metadata": {},
   "source": [
    "У этого принципа не самая очевидная формулировка, но суть его, как и было сказано, выражается правилом: «Все зависимости должны быть в виде интерфейсов»"
   ]
  },
  {
   "cell_type": "markdown",
   "metadata": {},
   "source": [
    "Итак, что мы тут видим. Есть некоторая абстракция – «интерфейс модуля». Есть код, который использует модуль – «клиент модуля». И есть реализация интерфейса модуля. Принцип инвертирования зависимостей определяет отношение этих трех сущностей так:\n",
    "- Клиент ничего не должен знать о реализации модуля. Он имеет дело только с интерфейсом.\n",
    "- Реализация модуля ничего не должна знать о клиенте. Она предоставляет функциональность и реализует определенный интерфейс.\n",
    "- Интерфейс не должен зависеть от реализации. Он вообще не должен о ней знать.\n",
    "- Реализация должна зависеть от интерфейса. Это естественно."
   ]
  },
  {
   "cell_type": "markdown",
   "metadata": {},
   "source": [
    "**Практика использования инверсии управления состоит в том, чтобы иметь классы или функции, которые зависят от других классов или функций, но вместо создания экземпляров внутри функционального кода, лучше получить его в качестве параметра, так слабая связь может быть заархивирована. Это имеет много преимуществ, такие как большая тестируемость и возможность замещения принципа замены Лискова.**"
   ]
  },
  {
   "cell_type": "markdown",
   "metadata": {},
   "source": [
    "### как этого можно добиться ?"
   ]
  },
  {
   "cell_type": "markdown",
   "metadata": {},
   "source": [
    "Крайне важно то, как модуль получает ссылки на объекты, которые он использует в своей работе. И тут возможны следующие варианты:\n",
    "\n",
    "- **Модуль сам создает объекты необходимые ему для работы.**\n",
    "\n",
    "Но, как и было сказано, модуль не может это сделать напрямую — для создания необходимо вызвать конструктор конкретного типа, и в результате модуль будет зависеть не от интерфейса, а от конкретной реализации. Решить проблему в данном случае позволяет шаблон Фабричный Метод (Factory Method).\n",
    "\n",
    "\"Суть заключается в том, что вместо непосредственного инстанцирования объекта через new, мы предоставляем классу-клиенту некоторый интерфейс для создания объектов. Поскольку такой интерфейс при правильном дизайне всегда может быть переопределён, мы получаем определённую гибкость при использовании низкоуровневых модулей в модулях высокого уровня\".\n",
    "\n",
    "В случаях, когда нужно создавать группы или семейства взаимосвязанных объектов, вместо Фабричного Метода используется Абстрактная Фабрика (Abstract factory).\n",
    "\n"
   ]
  },
  {
   "cell_type": "code",
   "execution_count": null,
   "metadata": {},
   "outputs": [],
   "source": [
    "## Пример из проекта, фабрики для тестов\n",
    "class PersonForReplisyncFactory(DjangoModelFactory):\n",
    "    class Meta:\n",
    "        model = 'contragent.Person'\n",
    "        django_get_or_create = ('fname', 'iname', 'address')\n",
    "\n",
    "\"\"\"\n",
    "Из документации\n",
    "Цель factory_boy - предоставить способ получения нового экземпляра по умолчанию, \n",
    "при этом все еще имея возможность переопределять некоторые поля для каждого вызова\n",
    "\n",
    "Так же из плюсов, это нет прямого импорта модели\n",
    "\"\"\"\n"
   ]
  },
  {
   "cell_type": "markdown",
   "metadata": {},
   "source": [
    "- **Модуль берет необходимые объекты у того, у кого они уже есть (обычно это некоторый, известный всем репозиторий, в котором уже лежит все, что только может понадобиться для работы программы).**\n",
    "\n",
    "Этот подход реализуется шаблоном Локатор Сервисов (Service Locator), основная идея которого заключается в том, что в программе имеется объект, знающий, как получить все зависимости (сервисы), которые могут потребоваться.\n",
    "\n",
    "Главное отличие от фабрик в том, что Service Locator не создаёт объекты, а фактически уже содержит в себе инстанцированные объекты (или знает где/как их получить, а если и создает, то только один раз при первом обращении). Фабрика при каждом обращении создает новый объект, который вы получаете в полную собственность и можете делать с ним что хотите. Локатор же сервисов выдает ссылки на одни и те же, уже существующие объекты. Поэтому с объектами, выданными Service Locator, нужно быть очень осторожным, так как одновременно с вами ими может пользоваться кто-то еще.\n",
    "\n",
    "Объекты в Service Locator могут быть добавлены напрямую, через конфигурационный файл, да и вообще любым удобным программисту способом. Сам Service Locator может быть статическим классом с набором статических методов, синглетоном или интерфейсом и передаваться требуемым классам через конструктор или метод.\n",
    "\n",
    "Вообще говоря, Service Locator иногда называют антипаттерном и не рекомендуют использовать (главным образом потому, что он создает неявные связности и дает лишь видимость хорошего дизайна). Подробно можно почитать у Марка Симана:\n",
    "Service Locator is an Anti-Pattern\n",
    "Abstract Factory or Service Locator?\n"
   ]
  },
  {
   "cell_type": "markdown",
   "metadata": {},
   "source": [
    "- **Модуль вообще не заботиться о «добывании» зависимостей. Он лишь определяет, что ему нужно для работы, а все необходимые зависимости ему поставляются («впрыскиваются») из вне кем-то другим.**\n",
    "\n",
    "Это так и называется — Внедрение Зависимостей (Dependency Injection). Обычно требуемые зависимости передаются либо в качестве параметров конструктора (Constructor Injection), либо через методы класса (Setter injection).\n",
    "\n",
    "Такой подход инвертирует процесс создания зависимости — вместо самого модуля создание зависимостей контролирует кто-то извне. Модуль из активного элемента, становится пассивным — не он делает, а для него делают. Такое изменение направления действия называется Инверсия Контроля (Inversion of Control), или Принцип Голливуда — «Не звоните нам, мы сами вам позвоним».\n",
    "\n",
    "Это самое гибкое решение, дающее модулям наибольшую автономность. Можно сказать, что только оно в полной мере реализует «Принцип единственной ответственности» — модуль должен быть полностью сфокусирован на том, чтобы хорошо выполнять свою функцию и не заботиться ни о чем другом. Обеспечение его всем необходимым для работы это отдельная задача, которой должен заниматься соответствующий «специалист» (обычно управлением зависимостями и их внедрениями занимается некий контейнер — IoC-контейнер).\n",
    "\n",
    "По сути, здесь все как в жизни: в хорошо организованной компании программисты программируют, а столы, компьютеры и все необходимое им для работы покупает и обеспечивает кладовщик. Или, если использовать метафору программы как конструктора — модуль не должен думать о проводах, сборкой конструктора занимается кто-то другой, а не сами детали."
   ]
  },
  {
   "cell_type": "markdown",
   "metadata": {},
   "source": [
    "**«Инъекция зависимости»** - это понятие за 5 центов на 25 долларов. [...] Внедрение зависимостей означает предоставление объекту его переменных экземпляра."
   ]
  },
  {
   "cell_type": "markdown",
   "metadata": {},
   "source": [
    "Пример инъекции в джанго"
   ]
  },
  {
   "cell_type": "markdown",
   "metadata": {},
   "source": [
    "![dep_injec](attest_image/dep_injection.png)"
   ]
  },
  {
   "cell_type": "markdown",
   "metadata": {},
   "source": [
    "## Инверсия управления (Inversion of Control)"
   ]
  },
  {
   "cell_type": "markdown",
   "metadata": {},
   "source": [
    "Это и есть Inversion of Control — очень абстрактный принцип, постулирующий факт задания потока выполнения некой внешней по отношению к вам сущностью.\n",
    "\n",
    "Понятие IoC тесно связано с понятием фреймворка. Это главная характеристика, отличающая его от другого способа оформления переиспользуемого кода — библиотеки, функции которой вы просто вызываете из своей программы. Фреймворк же — это внешний каркас, предоставляющий заранее определенные точки расширения. В эти точки расширения вы и вставляете свой код, но когда он будет вызван определяет именно фреймворк."
   ]
  },
  {
   "cell_type": "code",
   "execution_count": null,
   "metadata": {},
   "outputs": [],
   "source": [
    "class SomeAction:\n",
    "    def __init__(self):\n",
    "        self.data = Client\n",
    "        \n",
    "\"\"\"\n",
    "Проблема в том, что наш Экшен зависит напрямую от класса данных. Согласно принципу инверсии зависимостей надо \n",
    "между ними воткнуть абстракцию.\n",
    "\"\"\""
   ]
  },
  {
   "cell_type": "markdown",
   "metadata": {},
   "source": [
    "![uml](attest_image/uml.png)"
   ]
  },
  {
   "cell_type": "code",
   "execution_count": null,
   "metadata": {},
   "outputs": [],
   "source": [
    "Пример в нашем проекте это провайдер DjangoModelProvider"
   ]
  },
  {
   "cell_type": "markdown",
   "metadata": {},
   "source": [
    "Еще пример про иньекцию зависимостей\n",
    "https://webdevblog.ru/vnedrenie-zavisimostej-v-python/"
   ]
  },
  {
   "cell_type": "code",
   "execution_count": null,
   "metadata": {},
   "outputs": [],
   "source": [
    "# email_client.py\n",
    "class EmailClient(object):\n",
    "    \n",
    "    def __init__(self, config):\n",
    "        self._config = config\n",
    "        self.connect(self._config)\n",
    "        \n",
    "    def connect(self, config):\n",
    "        # Implement function here\n",
    "        pass"
   ]
  },
  {
   "cell_type": "code",
   "execution_count": null,
   "metadata": {},
   "outputs": [],
   "source": [
    "# email_reader.py\n",
    "class EmailReader(object):\n",
    "    \n",
    "    def __init__(self, client):\n",
    "        try:\n",
    "            self._client = client\n",
    "        except Exception as e:\n",
    "            raise e\n",
    "            \n",
    "    def read(self):\n",
    "        # Implement function here\n",
    "        pass"
   ]
  },
  {
   "cell_type": "code",
   "execution_count": null,
   "metadata": {},
   "outputs": [],
   "source": [
    "# containers.py\n",
    "from dependency_injector import providers, containers\n",
    "from email_client import EmailClient\n",
    "from email_reader import EmailReader\n",
    "\n",
    "class Configs(containers.DeclarativeContainer):\n",
    "    config = providers.Configuration('config')\n",
    "    # other configs\n",
    "    \n",
    "class Clients(containers.DeclarativeContainer):\n",
    "    email_client = providers.Singleton(EmailClient, Configs.config)\n",
    "    # other clients\n",
    "    \n",
    "class Readers(containers.DeclarativeContainer):\n",
    "    email_reader = providers.Factory(EmailReader, client=Clients.email_client)\n",
    "    # other readers"
   ]
  },
  {
   "cell_type": "code",
   "execution_count": null,
   "metadata": {},
   "outputs": [],
   "source": [
    "# main.py\n",
    "from containers import Readers, Clients, Configs\n",
    "if __name__ == \"__main__\":\n",
    "    Configs.config.override({\n",
    "        \"domain_name\": \"imap.gmail.com\",\n",
    "        \"email_address\": \"YOUR_EMAIL_ADDRESS\",\n",
    "        \"password\": \"YOUR_PASSWORD\",\n",
    "        \"mailbox\": \"INBOX\"\n",
    "    })\n",
    "    email_reader = Readers.email_reader()\n",
    "    print email_reader.read()"
   ]
  },
  {
   "cell_type": "markdown",
   "metadata": {},
   "source": [
    "В файле main.py объект config переопределяется данным объектом условной конфигурации. Класс EmailReader был создан без создания экземпляра класса EmailClient в главном файле, исключая накладные расходы на его импорт или создание. об этом заботится файл containers.py."
   ]
  },
  {
   "cell_type": "markdown",
   "metadata": {},
   "source": [
    "## Что такое слабая связность? Какие методы используются для достижения слабой связности в приложении.\n"
   ]
  },
  {
   "cell_type": "markdown",
   "metadata": {},
   "source": [
    "Это самостоятельность отдельных модулей приложение. Независимость отдельныз модулей приложения друг от друга. Принципы SOLID вобщем про это. особенно D инверсия зависимостей. В первую очередь также ИНТЕРФЕЙСЫ (и стоящие за ними Инкапсуляция, Полиморфизм, Наследование)"
   ]
  },
  {
   "cell_type": "markdown",
   "metadata": {},
   "source": [
    "- Модули должны быть друг для друга \"черными ящиками\" (инкапсуляция). Это означает, что один модуль не должен «лезть»  внутрь другого модуля и что либо знать о его внутренней структуре. Объекты одной подсистемы не должны обращаться      напрямую к объектам другой подсистемы  \n",
    "\n",
    "\n",
    "- Модули/подсистемы должны взаимодействовать друг с другом лишь посредством интерфейсов (то есть, абстракций, не  зависящих от деталей реализации) Соответственно каждый модуль должен иметь четко определенный интерфейс или интерфейсы для взаимодействия с другими модулями."
   ]
  },
  {
   "cell_type": "markdown",
   "metadata": {},
   "source": [
    "## Что такое интерфейсы"
   ]
  },
  {
   "cell_type": "markdown",
   "metadata": {},
   "source": [
    "В некоторых языках программирования есть отдельная сущность Интерфейс. Если говорить своими словами, то это определенный набор обязательных методов, для класса. Про класс мы говорим что класс реализует интерфейс если водержит в себе весь набор методов интерфейса (например set, get, delete, build). Это понятие так же связано с полиморфизмом напряму. Т.к. набор объектов поддерживающих интерфейс мы можем как то гибко использовать в коде. \n",
    "\n",
    "Интерфейс, это фактически контракт или регламент взаимодействия.. Это больше теоретическое определение нежели практическое"
   ]
  },
  {
   "cell_type": "markdown",
   "metadata": {},
   "source": [
    "## Чем интерфейс отличается от абстрактного класса?"
   ]
  },
  {
   "cell_type": "markdown",
   "metadata": {},
   "source": [
    "Если говорить про Python то в нем нет сущности Interface. Но его можно вобщем то создать объявив абстрактный класс, в котором создать набор абстрактных методов. Вобщем то абстрактный класс у которого все методы абстрактные на мой взгляд является интерфейсом. Тогда отнаследовавшийся от него Класс, гарантировано будет реализоввывать этот интерфейс. \n",
    "\n",
    "А так это понятия немного разного уровня, понятие интерфейс оно немного выше над понятием абстрактный класс."
   ]
  },
  {
   "cell_type": "markdown",
   "metadata": {},
   "source": [
    "# Паттерны"
   ]
  },
  {
   "cell_type": "markdown",
   "metadata": {},
   "source": [
    "## Какие обобщающие классы паттернов вы можете назвать?"
   ]
  },
  {
   "cell_type": "markdown",
   "metadata": {},
   "source": [
    "- Порождающие паттерны (Фабрики, Строитель)\n",
    "- Структурные паттерны (Адаптер, Мост, Фасад, Декоратор, Proxy)\n",
    "- Поведенческие паттерны (Итератор, Наблюдатель, Посредник, Издатель-Подписчик)"
   ]
  },
  {
   "cell_type": "markdown",
   "metadata": {},
   "source": [
    "## Что такое фабричный метод?"
   ]
  },
  {
   "cell_type": "markdown",
   "metadata": {},
   "source": [
    "Фабричный метод − это шаблон проектирования, используемый для создания общего интерфейса.\n",
    "\n",
    "Например, приложению требуется объект с определенным интерфейсом для выполнения задач. Реализация интерфейса определяется некоторым параметром.\n",
    "\n",
    "Вместо использования сложной структуры из условий if/elif/else для определения реализации, приложение делегирует это решение отдельному компоненту, который создает конкретный объект. При таком подходе код приложения упрощается, становится более удобным для повторного использования и поддержки."
   ]
  },
  {
   "cell_type": "markdown",
   "metadata": {},
   "source": [
    "![factory_method](attest_image/factory.png)"
   ]
  },
  {
   "cell_type": "code",
   "execution_count": 8,
   "metadata": {},
   "outputs": [],
   "source": [
    "#serializer_demo.py\n",
    "\n",
    "import json\n",
    "import xml.etree.ElementTree as et\n",
    "\n",
    "class Song:\n",
    "    def __init__(self, song_id, title, artist):\n",
    "        self.song_id = song_id\n",
    "        self.title = title\n",
    "        self.artist = artist\n",
    "\n",
    "\n",
    "class SongSerializer:\n",
    "    def serialize(self, song, format):\n",
    "        if format == 'JSON':\n",
    "            song_info = {\n",
    "                'id': song.song_id,\n",
    "                'title': song.title,\n",
    "                'artist': song.artist\n",
    "            }\n",
    "            return json.dumps(song_info)\n",
    "        elif format == 'XML':\n",
    "            song_info = et.Element('song', attrib={'id': song.song_id})\n",
    "            title = et.SubElement(song_info, 'title')\n",
    "            title.text = song.title\n",
    "            artist = et.SubElement(song_info, 'artist')\n",
    "            artist.text = song.artist\n",
    "            return et.tostring(song_info, encoding='unicode')\n",
    "        else:\n",
    "            raise ValueError(format)"
   ]
  },
  {
   "cell_type": "code",
   "execution_count": 9,
   "metadata": {},
   "outputs": [],
   "source": [
    "class SongSerializer:\n",
    "    def serialize(self, song, format):\n",
    "        serializer = get_serializer(format)\n",
    "        return serializer(song)\n",
    "\n",
    "\n",
    "def get_serializer(format):\n",
    "    if format == 'JSON':\n",
    "        return _serialize_to_json\n",
    "    elif format == 'XML':\n",
    "        return _serialize_to_xml\n",
    "    else:\n",
    "        raise ValueError(format)\n",
    "\n",
    "\n",
    "def _serialize_to_json(song):\n",
    "    payload = {\n",
    "        'id': song.song_id,\n",
    "        'title': song.title,\n",
    "        'artist': song.artist\n",
    "    }\n",
    "    return json.dumps(payload)\n",
    "\n",
    "\n",
    "def _serialize_to_xml(song):\n",
    "    song_element = et.Element('song', attrib={'id': song.song_id})\n",
    "    title = et.SubElement(song_element, 'title')\n",
    "    title.text = song.title\n",
    "    artist = et.SubElement(song_element, 'artist')\n",
    "    artist.text = song.artist\n",
    "    return et.tostring(song_element, encoding='unicode')"
   ]
  },
  {
   "cell_type": "code",
   "execution_count": null,
   "metadata": {},
   "outputs": [],
   "source": [
    "# Использования фабричного метода \n",
    "import serializer_demo as sd\n",
    "song = sd.Song('1', 'Water of Love', 'Dire Straits')\n",
    "serializer = sd.SongSerializer()\n",
    "\n",
    "serializer.serialize(song, 'JSON')\n",
    "'{\"id\": \"1\", \"title\": \"Water of Love\", \"artist\": \"Dire Straits\"}'\n",
    "\n",
    "serializer.serialize(song, 'XML')\n",
    "'<song id=\"1\"><title>Water of Love</title><artist>Dire Straits</artist></song>'"
   ]
  },
  {
   "cell_type": "markdown",
   "metadata": {},
   "source": [
    "![abbb](attest_image/about_factory_method.png)"
   ]
  },
  {
   "cell_type": "markdown",
   "metadata": {},
   "source": [
    "## Что возвращает абстрактная фабрика?"
   ]
  },
  {
   "cell_type": "markdown",
   "metadata": {},
   "source": [
    "![abstract_factory](attest_image/abstract_factory.png)"
   ]
  },
  {
   "cell_type": "markdown",
   "metadata": {},
   "source": [
    "Возвращает объект (продукт), сама фабрика является интерфейсом по сути, от которого наследуются уже конкретные фабрики"
   ]
  },
  {
   "cell_type": "code",
   "execution_count": null,
   "metadata": {},
   "outputs": [],
   "source": [
    "class AbstractFactory(ABC):\n",
    "    \"\"\"\n",
    "    Интерфейс Абстрактной Фабрики объявляет набор методов, которые возвращают\n",
    "    различные абстрактные продукты. Эти продукты называются семейством и связаны\n",
    "    темой или концепцией высокого уровня. Продукты одного семейства обычно могут\n",
    "    взаимодействовать между собой. Семейство продуктов может иметь несколько\n",
    "    вариаций, но продукты одной вариации несовместимы с продуктами другой.\n",
    "    \"\"\"\n",
    "    @abstractmethod\n",
    "    def create_product_a(self) -> AbstractProductA:\n",
    "        pass\n",
    "\n",
    "    @abstractmethod\n",
    "    def create_product_b(self) -> AbstractProductB:\n",
    "        pass\n",
    "\n",
    "\n",
    "class ConcreteFactory1(AbstractFactory):\n",
    "    \"\"\"\n",
    "    Конкретная Фабрика производит семейство продуктов одной вариации. Фабрика\n",
    "    гарантирует совместимость полученных продуктов. Обратите внимание, что\n",
    "    сигнатуры методов Конкретной Фабрики возвращают абстрактный продукт, в то\n",
    "    время как внутри метода создается экземпляр конкретного продукта.\n",
    "    \"\"\"\n",
    "\n",
    "    def create_product_a(self) -> ConcreteProductA1:\n",
    "        return ConcreteProductA1()\n",
    "\n",
    "    def create_product_b(self) -> ConcreteProductB1:\n",
    "        return ConcreteProductB1()"
   ]
  },
  {
   "cell_type": "code",
   "execution_count": null,
   "metadata": {},
   "outputs": [],
   "source": [
    "def client_code(factory: AbstractFactory) -> None:\n",
    "    \"\"\"\n",
    "    Клиентский код работает с фабриками и продуктами только через абстрактные\n",
    "    типы: Абстрактная Фабрика и Абстрактный Продукт. Это позволяет передавать\n",
    "    любой подкласс фабрики или продукта клиентскому коду, не нарушая его.\n",
    "    \"\"\"\n",
    "    product_a = factory.create_product_a()\n",
    "    product_b = factory.create_product_b()\n",
    "\n",
    "    print(f\"{product_b.useful_function_b()}\")\n",
    "    print(f\"{product_b.another_useful_function_b(product_a)}\", end=\"\")\n",
    "\n",
    "\n",
    "if __name__ == \"__main__\":\n",
    "    \"\"\"\n",
    "    Клиентский код может работать с любым конкретным классом фабрики.\n",
    "    \"\"\"\n",
    "    print(\"Client: Testing client code with the first factory type:\")\n",
    "    client_code(ConcreteFactory1())\n",
    "\n",
    "    print(\"\\n\")\n",
    "\n",
    "    print(\"Client: Testing the same client code with the second factory type:\")\n",
    "    client_code(ConcreteFactory2())"
   ]
  },
  {
   "cell_type": "markdown",
   "metadata": {},
   "source": [
    "![+-factory](attest_image/about_abstract_factory.png)"
   ]
  },
  {
   "cell_type": "markdown",
   "metadata": {},
   "source": [
    "## Чем шаблон Наблюдатель отличается от шаблона Издатель-Подписчик?"
   ]
  },
  {
   "cell_type": "markdown",
   "metadata": {},
   "source": [
    "Наблюдатель передаёт запрос одновременно всем заинтересованным получателям, но позволяет им динамически подписываться или отписываться от таких оповещений."
   ]
  },
  {
   "cell_type": "markdown",
   "metadata": {},
   "source": [
    "![observer](attest_image/observer.png)"
   ]
  },
  {
   "cell_type": "markdown",
   "metadata": {},
   "source": [
    "**Наблюдатель** — это поведенческий паттерн проектирования, который создаёт механизм подписки, позволяющий одним объектам следить и реагировать на события, происходящие в других объектах.\n",
    "\n"
   ]
  },
  {
   "cell_type": "markdown",
   "metadata": {},
   "source": [
    "Webhook"
   ]
  },
  {
   "cell_type": "markdown",
   "metadata": {},
   "source": [
    "![obser](attest_image/obser_plus.png)"
   ]
  },
  {
   "cell_type": "code",
   "execution_count": null,
   "metadata": {},
   "outputs": [],
   "source": [
    "class Subject(ABC):\n",
    "    \"\"\"\n",
    "    Интферфейс издателя объявляет набор методов для управлениями подпискичами.\n",
    "    \"\"\"\n",
    "\n",
    "    @abstractmethod\n",
    "    def attach(self, observer: Observer) -> None:\n",
    "        \"\"\"\n",
    "        Присоединяет наблюдателя к издателю.\n",
    "        \"\"\"\n",
    "        pass\n",
    "\n",
    "    @abstractmethod\n",
    "    def detach(self, observer: Observer) -> None:\n",
    "        \"\"\"\n",
    "        Отсоединяет наблюдателя от издателя.\n",
    "        \"\"\"\n",
    "        pass\n",
    "\n",
    "    @abstractmethod\n",
    "    def notify(self) -> None:\n",
    "        \"\"\"\n",
    "        Уведомляет всех наблюдателей о событии.\n",
    "        \"\"\"\n",
    "        pass\n",
    "\n",
    "\n",
    "class ConcreteSubject(Subject):\n",
    "    \"\"\"\n",
    "    Издатель владеет некоторым важным состоянием и оповещает наблюдателей о его\n",
    "    изменениях.\n",
    "    \"\"\"\n",
    "\n",
    "    _state: int = None\n",
    "    \"\"\"\n",
    "    Для удобства в этой переменной хранится состояние Издателя, необходимое всем\n",
    "    подписчикам.\n",
    "    \"\"\"\n",
    "\n",
    "    _observers: List[Observer] = []\n",
    "    \"\"\"\n",
    "    Список подписчиков. В реальной жизни список подписчиков может храниться в\n",
    "    более подробном виде (классифицируется по типу события и т.д.)\n",
    "    \"\"\"\n",
    "\n",
    "    def attach(self, observer: Observer) -> None:\n",
    "        print(\"Subject: Attached an observer.\")\n",
    "        self._observers.append(observer)\n",
    "\n",
    "    def detach(self, observer: Observer) -> None:\n",
    "        self._observers.remove(observer)\n",
    "\n",
    "    \"\"\"\n",
    "    Методы управления подпиской.\n",
    "    \"\"\"\n",
    "\n",
    "    def notify(self) -> None:\n",
    "        \"\"\"\n",
    "        Запуск обновления в каждом подписчике.\n",
    "        \"\"\"\n",
    "\n",
    "        print(\"Subject: Notifying observers...\")\n",
    "        for observer in self._observers:\n",
    "            observer.update(self)\n",
    "\n",
    "    def some_business_logic(self) -> None:\n",
    "        \"\"\"\n",
    "        Обычно логика подписки – только часть того, что делает Издатель.\n",
    "        Издатели часто содержат некоторую важную бизнес-логику, которая\n",
    "        запускает метод уведомления всякий раз, когда должно произойти что-то\n",
    "        важное (или после этого).\n",
    "        \"\"\"\n",
    "\n",
    "        print(\"\\nSubject: I'm doing something important.\")\n",
    "        self._state = randrange(0, 10)\n",
    "\n",
    "        print(f\"Subject: My state has just changed to: {self._state}\")\n",
    "        self.notify()\n",
    "\n",
    "\n",
    "class Observer(ABC):\n",
    "    \"\"\"\n",
    "    Интерфейс Наблюдателя объявляет метод уведомления, который издатели\n",
    "    используют для оповещения своих подписчиков.\n",
    "    \"\"\"\n",
    "\n",
    "    @abstractmethod\n",
    "    def update(self, subject: Subject) -> None:\n",
    "        \"\"\"\n",
    "        Получить обновление от субъекта.\n",
    "        \"\"\"\n",
    "        pass\n",
    "\n",
    "\n",
    "\"\"\"\n",
    "Конкретные Наблюдатели реагируют на обновления, выпущенные Издателем, к которому\n",
    "они прикреплены.\n",
    "\"\"\"\n",
    "\n",
    "\n",
    "class ConcreteObserverA(Observer):\n",
    "    def update(self, subject: Subject) -> None:\n",
    "        if subject._state < 3:\n",
    "            print(\"ConcreteObserverA: Reacted to the event\")\n",
    "\n",
    "\n",
    "class ConcreteObserverB(Observer):\n",
    "    def update(self, subject: Subject) -> None:\n",
    "        if subject._state == 0 or subject._state >= 2:\n",
    "            print(\"ConcreteObserverB: Reacted to the event\")\n",
    "\n",
    "\n",
    "if __name__ == \"__main__\":\n",
    "    # Клиентский код.\n",
    "\n",
    "    subject = ConcreteSubject()\n",
    "\n",
    "    observer_a = ConcreteObserverA()\n",
    "    subject.attach(observer_a)\n",
    "\n",
    "    observer_b = ConcreteObserverB()\n",
    "    subject.attach(observer_b)\n",
    "\n",
    "    subject.some_business_logic()\n",
    "    subject.some_business_logic()\n",
    "\n",
    "    subject.detach(observer_a)\n",
    "\n",
    "    subject.some_business_logic()"
   ]
  },
  {
   "cell_type": "markdown",
   "metadata": {},
   "source": [
    "Распространенным вариантом использования этой функции, которую предоставляет django (сигналы Django), являются уведомления (пример: допустим, у вас есть блог, и вам нужно получать уведомления каждый раз, когда есть комментарий, или уведомлять пользователей каждый раз, когда добавляется новое сообщение, или обновлено)"
   ]
  },
  {
   "cell_type": "markdown",
   "metadata": {},
   "source": [
    "## Паттерн издатель-подписчик (publish - subscriber)"
   ]
  },
  {
   "cell_type": "markdown",
   "metadata": {},
   "source": [
    "В Патерне издатель-подписчик, уже появляется некий промежуточный провайдер (шина/очередь для рассылки сообщений).  Если в Наблюдателе, конкретный подписчик подписывется на конкретного издателя, который генерит события. Издатель рассылает сообщения своим подписчикам. В издатель-подписчик, рассылка уведомлений происходит по всем издателями и подписчиками сразу, воответствнно количество издатеелей может менятся динамически.."
   ]
  },
  {
   "cell_type": "markdown",
   "metadata": {},
   "source": [
    "Это означает, что издатель и подписчик не знают о существовании друг друга. Существует третий компонент, называемый посредником, посредником сообщений или шиной событий, который известен как издателю, так и подписчику, который фильтрует все входящие сообщения и распределяет их соответствующим образом. Другими словами, pub-sub - это шаблон, используемый для обмена сообщениями между различными компонентами системы, когда эти компоненты ничего не знают об идентичности друг друга. Фильтрация сообщений уже лежит на брокере и может быть по Топиками например (Nuts).  "
   ]
  },
  {
   "cell_type": "code",
   "execution_count": null,
   "metadata": {},
   "outputs": [],
   "source": [
    "class Provider:\n",
    "    def __init__(self):\n",
    "        self.msg_queue = []\n",
    "        self.subscribers = {}\n",
    "\n",
    "    def notify(self, msg):\n",
    "        self.msg_queue.append(msg)\n",
    "\n",
    "    def subscribe(self, msg, subscriber):\n",
    "        self.subscribers.setdefault(msg, []).append(subscriber)\n",
    "\n",
    "    def unsubscribe(self, msg, subscriber):\n",
    "        self.subscribers[msg].remove(subscriber)\n",
    "\n",
    "    def update(self):\n",
    "        for msg in self.msg_queue:\n",
    "            for sub in self.subscribers.get(msg, []):\n",
    "                sub.run(msg)\n",
    "        self.msg_queue = []\n",
    "\n",
    "\n",
    "class Publisher:\n",
    "    def __init__(self, msg_center):\n",
    "        self.provider = msg_center\n",
    "\n",
    "    def publish(self, msg):\n",
    "        self.provider.notify(msg)\n",
    "\n",
    "\n",
    "class Subscriber:\n",
    "    def __init__(self, name, msg_center):\n",
    "        self.name = name\n",
    "        self.provider = msg_center\n",
    "\n",
    "    def subscribe(self, msg):\n",
    "        self.provider.subscribe(msg, self)\n",
    "\n",
    "    def unsubscribe(self, msg):\n",
    "        self.provider.unsubscribe(msg, self)\n",
    "\n",
    "    def run(self, msg):\n",
    "        print(\"{} got {}\".format(self.name, msg))\n",
    "\n",
    "\n",
    "def main():\n",
    "    \"\"\"\n",
    "    >>> message_center = Provider()\n",
    "    >>> fftv = Publisher(message_center)\n",
    "    >>> jim = Subscriber(\"jim\", message_center)\n",
    "    >>> jim.subscribe(\"cartoon\")\n",
    "    >>> jack = Subscriber(\"jack\", message_center)\n",
    "    >>> jack.subscribe(\"music\")\n",
    "    >>> gee = Subscriber(\"gee\", message_center)\n",
    "    >>> gee.subscribe(\"movie\")\n",
    "    >>> vani = Subscriber(\"vani\", message_center)\n",
    "    >>> vani.subscribe(\"movie\")\n",
    "    >>> vani.unsubscribe(\"movie\")\n",
    "    # Note that no one subscirbed to `ads`\n",
    "    # and that vani changed their mind\n",
    "    >>> fftv.publish(\"cartoon\")\n",
    "    >>> fftv.publish(\"music\")\n",
    "    >>> fftv.publish(\"ads\")\n",
    "    >>> fftv.publish(\"movie\")\n",
    "    >>> fftv.publish(\"cartoon\")\n",
    "    >>> fftv.publish(\"cartoon\")\n",
    "    >>> fftv.publish(\"movie\")\n",
    "    >>> fftv.publish(\"blank\")\n",
    "    >>> message_center.update()\n",
    "    jim got cartoon\n",
    "    jack got music\n",
    "    gee got movie"
   ]
  },
  {
   "cell_type": "markdown",
   "metadata": {},
   "source": [
    "![ob_im](attest_image/obser_img.png)"
   ]
  },
  {
   "cell_type": "markdown",
   "metadata": {},
   "source": [
    "![pub_s](attest_image/pub_sub_im.png)"
   ]
  },
  {
   "cell_type": "markdown",
   "metadata": {},
   "source": [
    "![ob_im](attest_image/diff.png)"
   ]
  },
  {
   "cell_type": "markdown",
   "metadata": {},
   "source": [
    "Celery это просто Task manager, это не про pub_sub, хот я в связке с Redis , вроде как можно использовать, с дополнительными библиотеками.."
   ]
  },
  {
   "cell_type": "markdown",
   "metadata": {},
   "source": [
    "# Какие паттерны применяются для организации доступа к данным?"
   ]
  },
  {
   "cell_type": "markdown",
   "metadata": {},
   "source": [
    "Компоновщик — это структурный паттерн проектирования, который позволяет сгруппировать множество объектов в древовидную структуру, а затем работать с ней так, как будто это единичный объект."
   ]
  },
  {
   "cell_type": "code",
   "execution_count": null,
   "metadata": {},
   "outputs": [],
   "source": [
    "from __future__ import annotations\n",
    "from abc import ABC, abstractmethod\n",
    "from typing import List\n",
    "\n",
    "\n",
    "class Component(ABC):\n",
    "    \"\"\"\n",
    "    Базовый класс Компонент объявляет общие операции как для простых, так и для\n",
    "    сложных объектов структуры.\n",
    "    \"\"\"\n",
    "\n",
    "    @property\n",
    "    def parent(self) -> Component:\n",
    "        return self._parent\n",
    "\n",
    "    @parent.setter\n",
    "    def parent(self, parent: Component):\n",
    "        \"\"\"\n",
    "        При необходимости базовый Компонент может объявить интерфейс для\n",
    "        установки и получения родителя компонента в древовидной структуре. Он\n",
    "        также может предоставить некоторую реализацию по умолчанию для этих\n",
    "        методов.\n",
    "        \"\"\"\n",
    "\n",
    "        self._parent = parent\n",
    "\n",
    "    \"\"\"\n",
    "    В некоторых случаях целесообразно определить операции управления потомками\n",
    "    прямо в базовом классе Компонент. Таким образом, вам не нужно будет\n",
    "    предоставлять конкретные классы компонентов клиентскому коду, даже во время\n",
    "    сборки дерева объектов. Недостаток такого подхода в том, что эти методы\n",
    "    будут пустыми для компонентов уровня листа.\n",
    "    \"\"\"\n",
    "\n",
    "    def add(self, component: Component) -> None:\n",
    "        pass\n",
    "\n",
    "    def remove(self, component: Component) -> None:\n",
    "        pass\n",
    "\n",
    "    def is_composite(self) -> bool:\n",
    "        \"\"\"\n",
    "        Вы можете предоставить метод, который позволит клиентскому коду понять,\n",
    "        может ли компонент иметь вложенные объекты.\n",
    "        \"\"\"\n",
    "\n",
    "        return False\n",
    "\n",
    "    @abstractmethod\n",
    "    def operation(self) -> str:\n",
    "        \"\"\"\n",
    "        Базовый Компонент может сам реализовать некоторое поведение по умолчанию\n",
    "        или поручить это конкретным классам, объявив метод, содержащий поведение\n",
    "        абстрактным.\n",
    "        \"\"\"\n",
    "\n",
    "        pass\n",
    "\n",
    "\n",
    "class Leaf(Component):\n",
    "    \"\"\"\n",
    "    Класс Лист представляет собой конечные объекты структуры. Лист не может\n",
    "    иметь вложенных компонентов.\n",
    "\n",
    "    Обычно объекты Листьев выполняют фактическую работу, тогда как объекты\n",
    "    Контейнера лишь делегируют работу своим подкомпонентам.\n",
    "    \"\"\"\n",
    "\n",
    "    def operation(self) -> str:\n",
    "        return \"Leaf\"\n",
    "\n",
    "\n",
    "class Composite(Component):\n",
    "    \"\"\"\n",
    "    Класс Контейнер содержит сложные компоненты, которые могут иметь вложенные\n",
    "    компоненты. Обычно объекты Контейнеры делегируют фактическую работу своим\n",
    "    детям, а затем «суммируют» результат.\n",
    "    \"\"\"\n",
    "\n",
    "    def __init__(self) -> None:\n",
    "        self._children: List[Component] = []\n",
    "\n",
    "    \"\"\"\n",
    "    Объект контейнера может как добавлять компоненты в свой список вложенных\n",
    "    компонентов, так и удалять их, как простые, так и сложные.\n",
    "    \"\"\"\n",
    "\n",
    "    def add(self, component: Component) -> None:\n",
    "        self._children.append(component)\n",
    "        component.parent = self\n",
    "\n",
    "    def remove(self, component: Component) -> None:\n",
    "        self._children.remove(component)\n",
    "        component.parent = None\n",
    "\n",
    "    def is_composite(self) -> bool:\n",
    "        return True\n",
    "\n",
    "    def operation(self) -> str:\n",
    "        \"\"\"\n",
    "        Контейнер выполняет свою основную логику особым образом. Он проходит\n",
    "        рекурсивно через всех своих детей, собирая и суммируя их результаты.\n",
    "        Поскольку потомки контейнера передают эти вызовы своим потомкам и так\n",
    "        далее, в результате обходится всё дерево объектов.\n",
    "        \"\"\"\n",
    "\n",
    "        results = []\n",
    "        for child in self._children:\n",
    "            results.append(child.operation())\n",
    "        return f\"Branch({'+'.join(results)})\"\n",
    "\n",
    "\n",
    "def client_code(component: Component) -> None:\n",
    "    \"\"\"\n",
    "    Клиентский код работает со всеми компонентами через базовый интерфейс.\n",
    "    \"\"\"\n",
    "\n",
    "    print(f\"RESULT: {component.operation()}\", end=\"\")\n",
    "\n",
    "\n",
    "def client_code2(component1: Component, component2: Component) -> None:\n",
    "    \"\"\"\n",
    "    Благодаря тому, что операции управления потомками объявлены в базовом классе\n",
    "    Компонента, клиентский код может работать как с простыми, так и со сложными\n",
    "    компонентами, вне зависимости от их конкретных классов.\n",
    "    \"\"\"\n",
    "\n",
    "    if component1.is_composite():\n",
    "        component1.add(component2)\n",
    "\n",
    "    print(f\"RESULT: {component1.operation()}\", end=\"\")\n",
    "\n",
    "\n",
    "if __name__ == \"__main__\":\n",
    "    # Таким образом, клиентский код может поддерживать простые компоненты-\n",
    "    # листья...\n",
    "    simple = Leaf()\n",
    "    print(\"Client: I've got a simple component:\")\n",
    "    client_code(simple)\n",
    "    print(\"\\n\")\n",
    "\n",
    "    # ...а также сложные контейнеры.\n",
    "    tree = Composite()\n",
    "\n",
    "    branch1 = Composite()\n",
    "    branch1.add(Leaf())\n",
    "    branch1.add(Leaf())\n",
    "\n",
    "    branch2 = Composite()\n",
    "    branch2.add(Leaf())\n",
    "\n",
    "    tree.add(branch1)\n",
    "    tree.add(branch2)\n",
    "\n",
    "    print(\"Client: Now I've got a composite tree:\")\n",
    "    client_code(tree)\n",
    "    print(\"\\n\")\n",
    "\n",
    "    print(\"Client: I don't need to check the components classes even when managing the tree:\")\n",
    "    client_code2(tree, simple)"
   ]
  },
  {
   "cell_type": "markdown",
   "metadata": {},
   "source": [
    "## ActiveRecord, Data mapper"
   ]
  },
  {
   "cell_type": "markdown",
   "metadata": {},
   "source": [
    "https://habr.com/ru/post/198450/"
   ]
  },
  {
   "cell_type": "markdown",
   "metadata": {},
   "source": [
    "Django ORM использует паттерн active record, а SQLAlchemy – data mapper. Если коротко, то разница между этими подходами заключается в том, что active record подразумевает, что каждая строка в базе данных будет обёрнута в отдельный python-объект. А подход data mapper позволяет управлять этим отображением.\n",
    "\n",
    "В целом ни один из этих подходов не хуже. У каждого есть свои сильные и слабые стороны. Например, подход active record проще для понимания и популярнее, а data mapper даёт больше возможностей."
   ]
  },
  {
   "cell_type": "markdown",
   "metadata": {},
   "source": [
    "Схема Active Record — это подход к доступу к данным в базе данных. Таблица базы данных или представление обёрнуты в классы. Таким образом, объектный экземпляр привязан к единственной строке в таблице. После создания объекта новая строка будет добавляться к таблице на сохранение. Любой загруженный объект получает свою информацию от базы данных. Когда объект обновлён, соответствующая строка в таблице также будет обновлена. Класс обёртки реализует методы средства доступа или свойства для каждого столбца в таблице или представлении.\n",
    "\n",
    "Этот образец обычно используется объектными инструментами персистентности и в объектно-реляционном отображении (ORM). Как правило, отношения внешнего ключа будут представлены как объектный экземпляр надлежащего типа через свойство.\n",
    "\n",
    "Реализации данного шаблона часто нарушают принцип единственной ответственности (SRP), совмещая в одном объекте как представление и внутреннюю логику самого объекта, так и механизмы CRUD, поэтому Active Record может считаться антипаттерном[1]. В других случаях это утверждение спорно, так как сам по себе объект, реализующий ActiveRecord, не содержащий никакой бизнес-логики, а предоставляющий таблицу из базы данных, имеет лишь одну причину для изменения (изменение таблицы), что не противоречит определением принципа SRP[2]."
   ]
  },
  {
   "cell_type": "code",
   "execution_count": null,
   "metadata": {},
   "outputs": [],
   "source": [
    "# Это как раз про Active record\n",
    "clent = Client()\n",
    "client.name = 'Bob'\n",
    "client.save()"
   ]
  },
  {
   "cell_type": "markdown",
   "metadata": {},
   "source": [
    "Преимущества Active Record\n",
    "\n",
    "- Писать код с Active Record получается быстро и легко, в том случае, когда свойства объекта прямо соотносятся с колонками в базе данных.\n",
    "- Сохранение происходит в одном месте, что позволяет легко изучить, как это работает.\n",
    "\n",
    "Недостатки Active Record\n",
    "\n",
    "- Модели Active Record нарушаю принципы SOLID. В частности, принцип единой ответственности (SRP — «S» в принципах SOLID). Согласно принципу, доменный объект должен иметь только одну зону ответственности, то есть только свою бизнес-логику. Вызывая его для сохранения данных, вы добавляете ему дополнительную зону ответственности, увеличивая сложность объекта, что усложняет его поддержку и тестирование.\n",
    "- Реализации сохранения данных тесно связана с бизнес-логикой, а это означает, что если вы позже захотите использовать другую абстракцию для сохранения данных (например для хранения данных в XML-файле, а не в базе данных), то вам придется делать рефакторинг кода."
   ]
  },
  {
   "cell_type": "markdown",
   "metadata": {},
   "source": [
    "\n",
    "В данном случае, класс Foo намного проще и должен беспокоиться только о своей бизнес-логике. Он не только не должен сохранять собственные данные, он даже не знает и не заботится о том, все ли его данные были сохранены.\n",
    "\n",
    "Преимущества Data Mapper-а\n",
    "\n",
    "- Каждый объект имеет свою зону ответственности, тем самым следую принципам SOLID и сохраняя каждый объект простым и по существу.\n",
    "- Бизнес-логика и сохранение данных связаны слабо, и если вы хотите сохранять данные в XML-файл или какой-нибудь другой формат, вы можете просто написать новый Mapper, не притрагиваясь к доменному объекту.\n",
    "\n",
    "Недостатки Data Mapper-а\n",
    "\n",
    "- Вам придется гораздо больше думать, перед тем как написать код.\n",
    "- В итоге у вас больше объектов в управлении, что немного усложняет код и его отладку."
   ]
  },
  {
   "cell_type": "code",
   "execution_count": null,
   "metadata": {},
   "outputs": [],
   "source": [
    "# Пример кода SQLalchemy\n",
    "\n",
    "# -------Создаем главный класс нашей ORM модели от которого будут наследоваться наши таблички----------\n",
    "Base = declarative_base()\n",
    "# ----------------- Создаем подключение к нашей базой------------------\n",
    "db_string = CONFIG['DB']['link']\n",
    "db = create_engine(db_string, client_encoding='utf8')\n",
    "\n",
    "class Token(Base):\n",
    "    __tablename__ = 'token'\n",
    "\n",
    "    id = Column(Integer, primary_key=True)\n",
    "    token = Column(Integer)\n",
    "    date_request = Column(DateTime)\n",
    "    status = Column(String)\n",
    "\n",
    "    def __init__(self, token, date_request, status):\n",
    "        self.token = token\n",
    "        self.date_request = date_request\n",
    "        self.status = status\n",
    "        \n",
    "# Инициалиация таблиц в БД\n",
    "Base.metadata.create_all(db)  # !!!!!!!!!!создает табличку из класса if does not exist\n",
    "\n",
    "'''\n",
    "Работа с данными в коде\n",
    "'''\n",
    "# Инициализация сессии\n",
    "Session = sessionmaker(bind=db)  \n",
    "session = Session()\n",
    "\n",
    "# Получение данных из БД\n",
    "get_user = session.query(Clients).filter_by(name='Вася').first()\n",
    "\n",
    "# Сохранение данных в БД\n",
    "new_client = Clients(name='Вася')\n",
    "session.add(new_client)\n",
    "\n",
    "# Сохранение данных в ДБ\n",
    "session.commit() "
   ]
  },
  {
   "cell_type": "markdown",
   "metadata": {},
   "source": [
    "# Как работает архитектура MVC"
   ]
  },
  {
   "cell_type": "markdown",
   "metadata": {},
   "source": [
    "https://habr.com/ru/post/276593/"
   ]
  },
  {
   "cell_type": "markdown",
   "metadata": {},
   "source": [
    "## MVC"
   ]
  },
  {
   "cell_type": "markdown",
   "metadata": {},
   "source": [
    "Например, в чем заключается суть такого распространенного «архитектурного шаблона» как Модель-Вид-Контроллер (MVC)? Всего навсего в отделении представления от бизнес-логики, то есть в том, что любое пользовательское приложение вначале делится на два модуля — один из которых отвечает за реализацию собственно самой бизнес логики (Модель), а второй — за взаимодействие с пользователем (Пользовательский Интерфейс или Представление). Затем, для того чтобы эти модули могли разрабатываться независимо, связь между ними ослабляется с помощью паттерна «Наблюдатель» (подробно о способах ослабления связей будет рассказано дальше) и мы фактически получаем один из самых мощных и востребованных «шаблонов», которые используются в настоящее время."
   ]
  },
  {
   "cell_type": "markdown",
   "metadata": {},
   "source": [
    "## Модульная архитектура. Декомпозиция как основа"
   ]
  },
  {
   "cell_type": "markdown",
   "metadata": {},
   "source": [
    "Не смотря на разнообразие критериев, все же главной при разработке больших систем считается задача снижения сложности. А для снижения сложности ничего, кроме деления на части, пока не придумано. Иногда это называют принципом «разделяй и властвуй» (divide et impera), но по сути речь идет об иерархической декомпозиции. Сложная система должна строится из небольшого количества более простых подсистем, каждая из которых, в свою очередь, строится из частей меньшего размера, и т.д., до тех пор, пока самые небольшие части не будут достаточно просты для непосредственного понимания и создания."
   ]
  },
  {
   "cell_type": "markdown",
   "metadata": {},
   "source": [
    "## Микросервисная архитектура"
   ]
  },
  {
   "cell_type": "markdown",
   "metadata": {},
   "source": [
    "# Веб-протоколы"
   ]
  },
  {
   "cell_type": "markdown",
   "metadata": {},
   "source": [
    "## HTTP"
   ]
  },
  {
   "cell_type": "markdown",
   "metadata": {},
   "source": [
    "## SOAP/WSDL, REST, Websocket"
   ]
  },
  {
   "cell_type": "markdown",
   "metadata": {},
   "source": [
    "https://habr.com/ru/post/46374/"
   ]
  },
  {
   "cell_type": "markdown",
   "metadata": {},
   "source": [
    "SOAP (от англ. Simple Object Access Protocol — простой протокол доступа к объектам) — протокол обмена структурированными сообщениями в распределённой вычислительной среде. Первоначально SOAP предназначался в основном для реализации удалённого вызова процедур (RPC). Сейчас протокол используется для обмена произвольными сообщениями в формате XML, а не только для вызова процедур. Официальная спецификация последней версии 1.2 протокола никак не расшифровывает название SOAP. SOAP является расширением протокола XML-RPC.\n",
    "\n",
    "SOAP может использоваться с любым протоколом прикладного уровня: SMTP, FTP, HTTP, HTTPS и др. Однако его взаимодействие с каждым из этих протоколов имеет свои особенности, которые должны быть определены отдельно. Чаще всего SOAP используется поверх HTTP.\n",
    "\n",
    "SOAP является одним из стандартов, на которых базируются технологии веб-служб."
   ]
  },
  {
   "cell_type": "code",
   "execution_count": null,
   "metadata": {},
   "outputs": [],
   "source": [
    "WSDL - это язык описания веб-сервисов"
   ]
  },
  {
   "cell_type": "code",
   "execution_count": null,
   "metadata": {},
   "outputs": [],
   "source": [
    "<message name=\"getTermRequest\">\n",
    "   <part name=\"term\" type=\"xs:string\"/>\n",
    "</message>\n",
    "\n",
    "<message name=\"getTermResponse\">\n",
    "   <part name=\"value\" type=\"xs:string\"/>\n",
    "</message>\n",
    "\n",
    "<portType name=\"glossaryTerms\">\n",
    "  <operation name=\"getTerm\">\n",
    "      <input message=\"getTermRequest\"/>\n",
    "      <output message=\"getTermResponse\"/>\n",
    "  </operation>\n",
    "</portType>"
   ]
  },
  {
   "cell_type": "code",
   "execution_count": null,
   "metadata": {},
   "outputs": [],
   "source": [
    "Пример SOAP-запроса"
   ]
  },
  {
   "cell_type": "code",
   "execution_count": null,
   "metadata": {},
   "outputs": [],
   "source": [
    "<?xml version=\"1.0\" encoding=\"utf-8\"?>\n",
    "<soap:Envelope xmlns:xsi=\"http://www.w3.org/2001/XMLSchema-instance\" xmlns:xsd=\"http://www.w3.org/2001/XMLSchema\" xmlns:soap=\"http://schemas.xmlsoap.org/soap/envelope/\">\n",
    "   <soap:Body>\n",
    "     <getProductDetails xmlns=\"http://warehouse.example.com/ws\">\n",
    "       <productID>12345</productID>\n",
    "     </getProductDetails>\n",
    "   </soap:Body>\n",
    "</soap:Envelope>"
   ]
  },
  {
   "cell_type": "markdown",
   "metadata": {},
   "source": [
    "## REST"
   ]
  },
  {
   "cell_type": "markdown",
   "metadata": {},
   "source": [
    "REST (от англ. Representational State Transfer — «передача состояния представления») — архитектурный стиль взаимодействия компонентов распределённого приложения в сети. REST представляет собой согласованный набор ограничений, учитываемых при проектировании распределённой гипермедиа-системы. В определённых случаях (интернет-магазины, поисковые системы, прочие системы, основанные на данных) это приводит к повышению производительности и упрощению архитектуры. В широком смысле[уточнить] компоненты в REST взаимодействуют наподобие взаимодействия клиентов и серверов во Всемирной паутине. REST является альтернативой RPC[1].\n",
    "\n",
    "В сети Интернет вызов удалённой процедуры может представлять собой обычный HTTP-запрос (обычно «GET» или «POST»; такой запрос называют «REST-запрос»), а необходимые данные передаются в качестве параметров запроса[2][3].\n",
    "\n",
    "Для веб-служб, построенных с учётом REST (то есть не нарушающих накладываемых им ограничений), применяют термин «RESTful».\n",
    "\n",
    "В отличие от веб-сервисов (веб-служб) на основе SOAP, не существует «официального» стандарта для RESTful веб-API. Дело в том, что REST является архитектурным стилем, в то время как SOAP является протоколом. Несмотря на то, что REST не является стандартом сам по себе, большинство RESTful-реализаций используют такие стандарты, как HTTP, URL, JSON и XML."
   ]
  },
  {
   "cell_type": "markdown",
   "metadata": {},
   "source": [
    "## UDP"
   ]
  },
  {
   "cell_type": "markdown",
   "metadata": {},
   "source": [
    "## TCP"
   ]
  },
  {
   "cell_type": "markdown",
   "metadata": {},
   "source": [
    "Где HTTP вклинивается в механизм?\n",
    "\n",
    "Сам HTTP работает поверх остальных протоколов. Во время соединения к веб-сайту, например к www.example.org, пользовательский агент использует семейство протоколов TCP/IP. Модель TCP/IP, спроектированная в 1970, состоит из 4 уровней:\n",
    "Уровень сетевого доступа, описывающий доступ к физическому устройству (т.е. использующее сетевую карту)\n",
    "Межсетевой уровень, описывающий размещения данных в дейтаграмме и роутинг данных — как они пакуются (IP)\n",
    "Транспортный уровень, описывающий способ, которым доставляются данные из исходной точки к финальному получателю (TCP, UDP)\n",
    "Прикладной уровень, описывающий значение или формат передаваемых сообщений (HTTP)\n",
    "\n",
    "HTTP — протокол прикладного уровня, который находится над коммуникационным протоколом. Это важно иметь ввиду. Разделение модели на независимые уровни помогает развивать части платформы, без необходимости переписывать всё. Например, TCP, протокол транспортного уровня, можно развивать, без необходимости модифицировать HTTP, протокол прикладного уровня. В первых статьях про HTTP мы уделим внимание разделению уровней, как это сделано в TCP/IP модели. HTTP предназначен для обмена информацией двумя частями программного обеспечения посредством HTTP сообщений. То, как мы формируем и проектируем эти сообщения, имеет значение как для клиента (браузер, например), так и для сервера (веб-сайт) и посредников (прокси-сервер)."
   ]
  },
  {
   "cell_type": "markdown",
   "metadata": {},
   "source": [
    "# Криптография"
   ]
  },
  {
   "cell_type": "markdown",
   "metadata": {},
   "source": [
    "## Пароли пользователей в Django (соль и.т.д.)"
   ]
  },
  {
   "cell_type": "markdown",
   "metadata": {},
   "source": [
    "Django предоставляет гибкую систему хранения паролей и по умолчанию использует PBKDF2.\n",
    "\n",
    "Атрибут password объекта User является строкой следующего формата:"
   ]
  },
  {
   "cell_type": "code",
   "execution_count": null,
   "metadata": {},
   "outputs": [],
   "source": [
    "<algorithm>$<iterations>$<salt>$<hash>"
   ]
  },
  {
   "cell_type": "markdown",
   "metadata": {},
   "source": [
    "Данная строка показывает компоненты, которые используются для хранения пользовательского пароля и разделены знаком доллара, а именно: хэширующий алгоритм, количество итераций алгоритма (work factor), случайная соль и полученный хэш пароля. Алгоритмом может быть любой из ряда однонаправленных хэширующих алгоритмов, которые использует Django; см. далее. Итерации описывают количество применений алгоритма для получения хэша. Соль является случайными данным, а сам хэш получается в результате работы однонаправленной функции.\n",
    "\n",
    "По умолчанию, Django использует алгоритм PBKDF2 с хэшем SHA256, механизм защиты паролей рекомендованный NIST. Этого должно хватить для большинства пользователей: достаточная защита, требующая большой объём вычислительного времени для взлома.\n",
    "\n",
    "1Тем не менее, в зависимости от ваших требований, вы можете выбрать другой алгоритм или даже реализовать собственный алгоритм, который будет соответствовать вашим требованиям к безопасности. Итак, большинство пользователей не должны думать об этом, если вы сомневаетесь, значит вам это точно не надою В противном случае, прочитайте:\n",
    "\n",
    "Django выбирает алгоритм для использования в соответствии с указанием переменной конфигурации PASSWORD_HASHERS. Переменная содержит список классов реализующих алгоритмы хэширования, которые поддерживает Django. Первая запись этого списка (речь о settings.PASSWORD_HASHERS[0]) будет использоваться для сохранения паролей, а все остальные записи являются проверенными средствами, которые могут быть применены для проверки существующих паролей. Это означает, что вам потребуется использовать другой алгоритм хэширования, вам потребуется просто указать его первым в параметре конфигурации PASSWORD_HASHERS.\n",
    "\n",
    "По умолчанию PASSWORD_HASHERS содержит:"
   ]
  },
  {
   "cell_type": "code",
   "execution_count": null,
   "metadata": {},
   "outputs": [],
   "source": [
    "PASSWORD_HASHERS = [\n",
    "    'django.contrib.auth.hashers.PBKDF2PasswordHasher',\n",
    "    'django.contrib.auth.hashers.PBKDF2SHA1PasswordHasher',\n",
    "    'django.contrib.auth.hashers.BCryptSHA256PasswordHasher',\n",
    "    'django.contrib.auth.hashers.BCryptPasswordHasher',\n",
    "    'django.contrib.auth.hashers.SHA1PasswordHasher',\n",
    "    'django.contrib.auth.hashers.MD5PasswordHasher',\n",
    "    'django.contrib.auth.hashers.CryptPasswordHasher',\n",
    "]"
   ]
  },
  {
   "cell_type": "markdown",
   "metadata": {},
   "source": [
    "Это означает, что Django будет использовать PBKDF2 для сохранения всех паролей, но будет поддерживать проверку паролей, сохранённых с помощью PBKDF2SHA1, bcrypt, SHA1 и так далее. Следующие несколько разделов описывают ряд общих способов, которые могут быть использованы опытными пользователями для изменения данного параметра конфигурации."
   ]
  },
  {
   "cell_type": "code",
   "execution_count": null,
   "metadata": {},
   "outputs": [],
   "source": []
  }
 ],
 "metadata": {
  "kernelspec": {
   "display_name": "Python 3",
   "language": "python",
   "name": "python3"
  },
  "language_info": {
   "codemirror_mode": {
    "name": "ipython",
    "version": 3
   },
   "file_extension": ".py",
   "mimetype": "text/x-python",
   "name": "python",
   "nbconvert_exporter": "python",
   "pygments_lexer": "ipython3",
   "version": "3.7.6"
  }
 },
 "nbformat": 4,
 "nbformat_minor": 1
}
